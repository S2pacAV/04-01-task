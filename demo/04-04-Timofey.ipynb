{
 "cells": [
  {
   "cell_type": "markdown",
   "id": "fcbad859-bcab-43be-9cd8-ea6c338cc5c7",
   "metadata": {},
   "source": [
    "## Стаитстические тесты и проверка гипотез, доверительные интервалы"
   ]
  },
  {
   "cell_type": "code",
   "execution_count": 1,
   "id": "2504864e-d884-430e-8f4d-f83ded6f6358",
   "metadata": {},
   "outputs": [],
   "source": [
    "import numpy as np\n",
    "import scipy.stats as st\n",
    "import matplotlib.pyplot as plt\n",
    "import seaborn as sns\n",
    "from joblib import load"
   ]
  },
  {
   "cell_type": "code",
   "execution_count": 2,
   "id": "8950e009-6673-4a77-aac0-893704ef2928",
   "metadata": {},
   "outputs": [],
   "source": [
    "sample_1 = st.norm(1, 1).rvs(1000)\n",
    "sample_2 = st.expon(scale=1).rvs(1000)"
   ]
  },
  {
   "cell_type": "code",
   "execution_count": 3,
   "id": "8d897059-5255-4a66-a0cc-7107153dbde6",
   "metadata": {},
   "outputs": [
    {
     "data": {
      "text/plain": [
       "<Axes: ylabel='Count'>"
      ]
     },
     "execution_count": 3,
     "metadata": {},
     "output_type": "execute_result"
    },
    {
     "data": {
      "image/png": "[encoded data removed]",
      "text/plain": [
       "<Figure size 640x480 with 2 Axes>"
      ]
     },
     "metadata": {},
     "output_type": "display_data"
    }
   ],
   "source": [
    "fig, ax = plt.subplots(1, 2)\n",
    "sns.histplot(sample_1, ax=ax[0])\n",
    "sns.histplot(sample_2, ax=ax[1])"
   ]
  },
  {
   "cell_type": "code",
   "execution_count": 10,
   "id": "a986cb5c-09e3-4fca-835f-a7543f481296",
   "metadata": {},
   "outputs": [
    {
     "data": {
      "text/plain": [
       "TtestResult(statistic=-1.2686441646074804, pvalue=0.20471578904627077, df=1998.0)"
      ]
     },
     "execution_count": 10,
     "metadata": {},
     "output_type": "execute_result"
    }
   ],
   "source": [
    "st.ttest_ind(sample_1, sample_2)"
   ]
  },
  {
   "cell_type": "code",
   "execution_count": 14,
   "id": "4303dfc5-1d0b-4d29-845b-d341a5667145",
   "metadata": {},
   "outputs": [
    {
     "data": {
      "text/plain": [
       "MannwhitneyuResult(statistic=521988.0, pvalue=0.088620704902801)"
      ]
     },
     "execution_count": 14,
     "metadata": {},
     "output_type": "execute_result"
    }
   ],
   "source": [
    "st.mannwhitneyu(sample_1, sample_2)"
   ]
  },
  {
   "cell_type": "code",
   "execution_count": null,
   "id": "c2f60136-5205-4b70-97d1-d887e8851ac0",
   "metadata": {},
   "outputs": [],
   "source": []
  },
  {
   "cell_type": "markdown",
   "id": "1794ce43-b1a0-4625-b91b-288ea96f6b46",
   "metadata": {},
   "source": [
    "## Провести двухвыборочный t-тест, оценить t-статистику и p-значение"
   ]
  },
  {
   "cell_type": "markdown",
   "id": "2117bd8c-8396-4386-a218-38431af3c567",
   "metadata": {},
   "source": [
    "$$\n",
    "\\huge\n",
    "t = \\frac{\\mu_1 - \\mu_2}{\\sqrt{\\frac{s_1^2}{n_1} + \\frac{s_2^2}{n_2}}}\n",
    "$$"
   ]
  },
  {
   "cell_type": "code",
   "execution_count": 9,
   "id": "54f97018-d470-47cb-804a-5cf89af04052",
   "metadata": {},
   "outputs": [],
   "source": [
    "data_1 = load('data_1.joblib')\n",
    "data_2 = load('data_2.joblib')"
   ]
  },
  {
   "cell_type": "code",
   "execution_count": 14,
   "id": "2606173d-5682-4baa-bd3b-f154974a82c5",
   "metadata": {},
   "outputs": [],
   "source": [
    "se_1 = round(data_1.var() / len(data_1), 2)\n",
    "se_2 = round(data_2.var() / len(data_2), 2)"
   ]
  },
  {
   "cell_type": "code",
   "execution_count": 15,
   "id": "da6bf5ca-b098-4503-85f1-efcaf450e5a2",
   "metadata": {},
   "outputs": [
    {
     "data": {
      "text/plain": [
       "2.842"
      ]
     },
     "execution_count": 15,
     "metadata": {},
     "output_type": "execute_result"
    }
   ],
   "source": [
    "t_stat = round((data_2.mean() - data_1.mean()) / np.sqrt(se_1 + se_2), 3)\n",
    "t_stat"
   ]
  },
  {
   "cell_type": "code",
   "execution_count": 16,
   "id": "c9b79372-e064-49ad-bfa1-1b4587f26004",
   "metadata": {},
   "outputs": [
    {
     "data": {
      "text/plain": [
       "0.002"
      ]
     },
     "execution_count": 16,
     "metadata": {},
     "output_type": "execute_result"
    }
   ],
   "source": [
    "p_value = round(1 - st.t(len(data_1) - 1).cdf(t_stat), 3)\n",
    "p_value"
   ]
  },
  {
   "cell_type": "code",
   "execution_count": null,
   "id": "f987b24f-6bc7-45d3-aed2-aa25cf6ebe2c",
   "metadata": {},
   "outputs": [],
   "source": []
  },
  {
   "cell_type": "markdown",
   "id": "6386351f-4e4b-4eee-9e05-3446eaf99dcd",
   "metadata": {},
   "source": [
    "## Проверка гипотезы о среднем  \n",
    "### выборка: 9, 5, 7, 7, 4, 10 \n",
    "\n",
    "$$\n",
    "\\huge\n",
    "\\begin{align*}\n",
    "H_0: & \\, \\mu = 6 \\\\\n",
    "H_1: & \\, \\mu > 6\n",
    "\\end{align*}\n",
    "$$"
   ]
  },
  {
   "cell_type": "code",
   "execution_count": 32,
   "id": "892a3497-e128-4261-aefc-7dc435d8ccf2",
   "metadata": {},
   "outputs": [],
   "source": [
    "sample = np.array([9, 5, 7, 7, 4, 10])\n",
    "mu0 = 6\n",
    "n = len(sample)\n",
    "x_mean = sample.mean()\n",
    "sigma = 1\n",
    "alpha = 0.01"
   ]
  },
  {
   "cell_type": "code",
   "execution_count": 33,
   "id": "37c6cec5-bb17-4964-acc4-fcdba1003bb0",
   "metadata": {},
   "outputs": [
    {
     "data": {
      "text/plain": [
       "2.449489742783178"
      ]
     },
     "execution_count": 33,
     "metadata": {},
     "output_type": "execute_result"
    }
   ],
   "source": [
    "z_stat = (x_mean - mu0) / (sigma/np.sqrt(n))\n",
    "z_stat"
   ]
  },
  {
   "cell_type": "code",
   "execution_count": 34,
   "id": "607cde88-fe50-4872-a75b-a2de10e939b0",
   "metadata": {},
   "outputs": [
    {
     "data": {
      "text/plain": [
       "2.33"
      ]
     },
     "execution_count": 34,
     "metadata": {},
     "output_type": "execute_result"
    }
   ],
   "source": [
    "z_crit = (st.norm(0, 1).ppf(1 - alpha)).round(2)\n",
    "z_crit"
   ]
  },
  {
   "cell_type": "code",
   "execution_count": null,
   "id": "8dfef9b9-77c5-4673-96e3-4eeeccfa2446",
   "metadata": {},
   "outputs": [],
   "source": []
  },
  {
   "cell_type": "markdown",
   "id": "a57dc516-e19e-4b07-baa0-024e636151dd",
   "metadata": {},
   "source": [
    "## Найти 99% доверительный интервал для выборки 9, 5, 7, 7, 4, 10"
   ]
  },
  {
   "cell_type": "markdown",
   "id": "7726603c-a73c-497c-a6b3-c79ff3cb9aa1",
   "metadata": {},
   "source": [
    "$$\n",
    "\\Large\n",
    "\\left(\\bar{x} - {\\Delta} \\right); \\left(\\bar{x} + {\\Delta} \\right)\n",
    "$$"
   ]
  },
  {
   "cell_type": "markdown",
   "id": "b88cdfb3-ffde-488b-924b-2e7301f48239",
   "metadata": {},
   "source": [
    "$$\n",
    "\\Large\n",
    "{\\Delta} = \\frac{\\sigma}{\\sqrt{n}} z_{1 - \\frac{\\alpha}{2}}\n",
    "$$"
   ]
  },
  {
   "cell_type": "markdown",
   "id": "dbe9af00-5e62-47cc-b46a-208e5cff10dd",
   "metadata": {},
   "source": [
    "$$\n",
    "\\Large\n",
    "\\left(\\bar{x} - \\frac{\\sigma}{\\sqrt{n}} z_{1 - \\frac{\\alpha}{2}} \\right); \\left(\\bar{x} + \\frac{\\sigma}{\\sqrt{n}} z_{1 - \\frac{\\alpha}{2}} \\right)\n",
    "$$"
   ]
  },
  {
   "cell_type": "code",
   "execution_count": 35,
   "id": "e836fc3f-01a5-471c-b34a-6a6641a04fd0",
   "metadata": {},
   "outputs": [],
   "source": [
    "sample = np.array([9, 5, 7, 7, 4, 10])\n",
    "mu0 = 6\n",
    "n = len(sample)\n",
    "x_mean = sample.mean()\n",
    "sigma = 1\n",
    "alpha = 0.01"
   ]
  },
  {
   "cell_type": "code",
   "execution_count": 39,
   "id": "d28612ef-3eb8-4f40-9781-a8bf23c84de8",
   "metadata": {},
   "outputs": [
    {
     "data": {
      "text/plain": [
       "2.58"
      ]
     },
     "execution_count": 39,
     "metadata": {},
     "output_type": "execute_result"
    }
   ],
   "source": [
    "z_crit = (st.norm(0, 1).ppf(1 - alpha/2)).round(2)\n",
    "z_crit"
   ]
  },
  {
   "cell_type": "code",
   "execution_count": 41,
   "id": "3f9e1fa9-d64d-442b-8f18-5ac3f538e953",
   "metadata": {},
   "outputs": [
    {
     "data": {
      "text/plain": [
       "1.0532805893967667"
      ]
     },
     "execution_count": 41,
     "metadata": {},
     "output_type": "execute_result"
    }
   ],
   "source": [
    "delta = sigma/np.sqrt(n) * z_crit\n",
    "delta"
   ]
  },
  {
   "cell_type": "code",
   "execution_count": 43,
   "id": "f88e5ac2-16a3-49bf-99b0-8b8d196a068d",
   "metadata": {},
   "outputs": [
    {
     "data": {
      "text/plain": [
       "(5.946719410603233, 8.053280589396767)"
      ]
     },
     "execution_count": 43,
     "metadata": {},
     "output_type": "execute_result"
    }
   ],
   "source": [
    "x_mean - delta, x_mean + delta"
   ]
  },
  {
   "cell_type": "code",
   "execution_count": null,
   "id": "53925544-9d20-48dc-96ac-3b317479bd0f",
   "metadata": {},
   "outputs": [],
   "source": []
  },
  {
   "cell_type": "markdown",
   "id": "e0724a0a-b4fc-4ded-a637-6c370ccd8d39",
   "metadata": {},
   "source": [
    "## Построить bootstrap-выборки для оценки доверительного интервала"
   ]
  },
  {
   "cell_type": "code",
   "execution_count": 48,
   "id": "869894f1-9ce6-4dbf-b487-7eb2e4fa271f",
   "metadata": {},
   "outputs": [],
   "source": [
    "alpha = 0.01\n",
    "k = 400\n",
    "sample = np.array([9, 5, 7, 7, 4, 10])"
   ]
  },
  {
   "cell_type": "code",
   "execution_count": 49,
   "id": "f33e96a0-839e-4fbf-a124-afe0008287e2",
   "metadata": {},
   "outputs": [],
   "source": [
    "means = np.array([])"
   ]
  },
  {
   "cell_type": "code",
   "execution_count": 50,
   "id": "1abd043f-0bed-47bc-baf7-b2335a857352",
   "metadata": {},
   "outputs": [],
   "source": [
    "for i in range(k):\n",
    "    bootstrap_sample = np.random.choice(sample, size=len(sample), replace=True)\n",
    "    means = np.append(means, bootstrap_sample.mean())"
   ]
  },
  {
   "cell_type": "code",
   "execution_count": 51,
   "id": "14c4367f-575b-4ce4-85b2-e3cd63d77bc3",
   "metadata": {},
   "outputs": [
    {
     "data": {
      "text/plain": [
       "<Axes: ylabel='Count'>"
      ]
     },
     "execution_count": 51,
     "metadata": {},
     "output_type": "execute_result"
    },
    {
     "data": {
      "image/png": "[encoded data removed]",
      "text/plain": [
       "<Figure size 640x480 with 1 Axes>"
      ]
     },
     "metadata": {},
     "output_type": "display_data"
    }
   ],
   "source": [
    "sns.histplot(means)"
   ]
  },
  {
   "cell_type": "code",
   "execution_count": 52,
   "id": "e908b7ca-e4c2-484a-aa7b-203042b0fb22",
   "metadata": {},
   "outputs": [],
   "source": [
    "left = np.quantile(means, alpha/2)\n",
    "right = np.quantile(means, 1 - alpha/2)"
   ]
  },
  {
   "cell_type": "code",
   "execution_count": 53,
   "id": "4f24c5d2-bee3-487f-874f-bdf353d66ee7",
   "metadata": {},
   "outputs": [
    {
     "data": {
      "text/plain": [
       "(4.833333333333333, 9.166666666666666)"
      ]
     },
     "execution_count": 53,
     "metadata": {},
     "output_type": "execute_result"
    }
   ],
   "source": [
    "left, right"
   ]
  },
  {
   "cell_type": "code",
   "execution_count": null,
   "id": "fedb4775-0154-4030-9ee3-edd7913d11c2",
   "metadata": {},
   "outputs": [],
   "source": []
  },
  {
   "cell_type": "code",
   "execution_count": null,
   "id": "d7b08628-fb08-4b02-b9aa-5bcdc9da124e",
   "metadata": {},
   "outputs": [],
   "source": []
  },
  {
   "cell_type": "code",
   "execution_count": null,
   "id": "1bbcae98-2278-425b-ac8a-27a1a7e211ac",
   "metadata": {},
   "outputs": [],
   "source": []
  },
  {
   "cell_type": "markdown",
   "id": "a2a3133e-beeb-43c9-b2e9-271fd189d21c",
   "metadata": {},
   "source": [
    "## Построить 95% доверительный интервал для случайных бросков кубика"
   ]
  },
  {
   "cell_type": "code",
   "execution_count": null,
   "id": "8417183d-9092-473b-9420-a5c8b806a8cf",
   "metadata": {},
   "outputs": [],
   "source": [
    "dice = [1, 2, 3, 4, 5, 6]  # список граней кубика"
   ]
  },
  {
   "cell_type": "code",
   "execution_count": null,
   "id": "3dd8893e-d3d9-40fb-b09c-26842f14b7ac",
   "metadata": {},
   "outputs": [],
   "source": [
    "n = 10  # число бросков\n",
    "alpha = 0.05  # уровень значимости\n",
    "sample = np.random.choice(dice, size=n)  # генерация случайных бросков"
   ]
  },
  {
   "cell_type": "code",
   "execution_count": null,
   "id": "6fd128b6-1d42-4ade-a52c-0b0d4dd04dcd",
   "metadata": {},
   "outputs": [],
   "source": [
    "mean = sample.mean()  # среднее\n",
    "mean"
   ]
  },
  {
   "cell_type": "code",
   "execution_count": null,
   "id": "5e436b90-46a4-4b4e-bd48-cb83b60e66fe",
   "metadata": {},
   "outputs": [],
   "source": [
    "std = sample.std(ddof=1)  # стандартное отклонение\n",
    "std"
   ]
  },
  {
   "cell_type": "code",
   "execution_count": null,
   "id": "890e9484-1664-49fc-9021-331568e61c70",
   "metadata": {},
   "outputs": [],
   "source": [
    "se = std/np.sqrt(n)  # стандартная ошибка"
   ]
  },
  {
   "cell_type": "code",
   "execution_count": null,
   "id": "d1a4f619-b8f4-4b47-a6ac-0e854e24dcda",
   "metadata": {},
   "outputs": [],
   "source": [
    "quantile = st.t(n-1).ppf(1-alpha/2)  # квантиль уровня 2,5%\n",
    "quantile"
   ]
  },
  {
   "cell_type": "code",
   "execution_count": null,
   "id": "6712b2e4-982b-4c5f-811c-9cf87a6b2165",
   "metadata": {},
   "outputs": [],
   "source": [
    "delta = se * quantile  # дельта для оценки доверительного интервала"
   ]
  },
  {
   "cell_type": "code",
   "execution_count": null,
   "id": "30b69d7d-0963-42e6-8257-e9f9bad1d7d4",
   "metadata": {},
   "outputs": [],
   "source": [
    "(mean - delta).round(2), (mean + delta).round(2)  # доверительный интервал"
   ]
  },
  {
   "cell_type": "code",
   "execution_count": null,
   "id": "3a591bbd-678f-499e-b99b-00eb0f34c770",
   "metadata": {},
   "outputs": [],
   "source": []
  },
  {
   "cell_type": "code",
   "execution_count": null,
   "id": "c54a8ba0-2b7e-4a45-9337-11fe64bab68a",
   "metadata": {},
   "outputs": [],
   "source": []
  }
 ],
 "metadata": {
  "kernelspec": {
   "display_name": "Python 3 (ipykernel)",
   "language": "python",
   "name": "python3"
  },
  "language_info": {
   "codemirror_mode": {
    "name": "ipython",
    "version": 3
   },
   "file_extension": ".py",
   "mimetype": "text/x-python",
   "name": "python",
   "nbconvert_exporter": "python",
   "pygments_lexer": "ipython3",
   "version": "3.12.0"
  }
 },
 "nbformat": 4,
 "nbformat_minor": 5
}
