{
 "cells": [
  {
   "cell_type": "code",
   "execution_count": 2,
   "id": "fbdc41f1-66e4-4179-9025-671ba009d0d6",
   "metadata": {},
   "outputs": [],
   "source": [
    "import pandas as pd\n",
    "import scipy.stats as st\n",
    "import numpy as np\n",
    "import matplotlib.pyplot as plt\n",
    "import math"
   ]
  },
  {
   "cell_type": "code",
   "execution_count": 3,
   "id": "90497e58-d85b-49ba-96de-bc73157d58b0",
   "metadata": {},
   "outputs": [],
   "source": [
    "n = 300\n",
    "p = 0.5"
   ]
  },
  {
   "cell_type": "code",
   "execution_count": 4,
   "id": "c3fe0b83-2c38-4958-8125-ad8987f328b0",
   "metadata": {},
   "outputs": [],
   "source": [
    "t_stat_destr = st.binom(n, p)"
   ]
  },
  {
   "cell_type": "markdown",
   "id": "b17dafa4-29bd-476a-b4b8-115416f9a11b",
   "metadata": {},
   "source": [
    "H0 - новый интерфейс не принес изменений  \n",
    "H1 - новый интерфейс принес изменения    "
   ]
  },
  {
   "cell_type": "code",
   "execution_count": 8,
   "id": "e57e9429-5b3e-49fc-9e44-3dac764c80b2",
   "metadata": {},
   "outputs": [],
   "source": [
    "alpha = 0.05"
   ]
  },
  {
   "cell_type": "code",
   "execution_count": 9,
   "id": "7a4e9cb1-07be-4785-8a80-9631b90c9438",
   "metadata": {},
   "outputs": [
    {
     "data": {
      "text/plain": [
       "164.0"
      ]
     },
     "execution_count": 9,
     "metadata": {},
     "output_type": "execute_result"
    }
   ],
   "source": [
    "t_stat_destr.ppf(1 - alpha)"
   ]
  },
  {
   "cell_type": "code",
   "execution_count": 10,
   "id": "c74cf4fb-f7dd-4829-a1c9-5906f3be756e",
   "metadata": {},
   "outputs": [],
   "source": [
    "observ = 167"
   ]
  },
  {
   "cell_type": "code",
   "execution_count": 12,
   "id": "2fe4965d-497e-41db-a3de-aa0f4ce697f4",
   "metadata": {},
   "outputs": [
    {
     "data": {
      "text/plain": [
       "2.156424963861081"
      ]
     },
     "execution_count": 12,
     "metadata": {},
     "output_type": "execute_result"
    }
   ],
   "source": [
    "(1 - t_stat_destr.cdf(observ))*100"
   ]
  },
  {
   "cell_type": "code",
   "execution_count": null,
   "id": "f2036e17-f910-48c9-96b4-86f20bfd312e",
   "metadata": {},
   "outputs": [],
   "source": []
  },
  {
   "cell_type": "markdown",
   "id": "b76a384d-80e6-4d6b-a411-d33d686f66c8",
   "metadata": {},
   "source": [
    "## Бизнес-кейс  \n",
    "Мы владеем сетью ресторанов в большом городе. Согласно собранной статистике, наш ежедневный средний чек составляет 1200. Менеджер одного из ресторанов принял некоторые изменения. За день работы этого ресторана были зафиксированы все заказы.  \n",
    "Задача: оценить статистически и обосновать принятие одной из гипотез:  \n",
    "H0: средний чек останется без изменений  \n",
    "H1: средний чек увеличится"
   ]
  },
  {
   "cell_type": "code",
   "execution_count": 13,
   "id": "b6eb3c7e-b4c1-4160-8d59-72c0a4298d17",
   "metadata": {},
   "outputs": [],
   "source": [
    "data = np.array([1350, 1420, 890, 1450, 1290, 1320, 1490, 1190, 1290, 1190, 1290, 1210,\n",
    "        1220, 1590, 890, 1220, 1100, 1100, 1150, 1250, 1640, 1290, 1070, 990,\n",
    "        1390, 1490, 1100, 1059, 1290, 950, 1059, 1170, 1265, 890, 1320, 1240,\n",
    "        1180, 1300, 1090, 1100, 1360, 990, 1320, 1020, 1190, 1470, 1220, 1540,\n",
    "        985, 1240, 1190, 1570, 1290, 1190, 780, 1290, 1350, 1291, 1190, 955,\n",
    "        1290, 1320, 960, 1190, 1420, 1630, 1490, 1120, 890, 1440, 1050, 990,\n",
    "        1150, 1199, 1190, 1290, 1320, 1150, 1390, 1059, 1090, 1255, 1059, 1150,\n",
    "        1250, 1355, 1150, 1140, 1290, 1320, 985, 1290, 1460, 1155, 1090, 1150,\n",
    "        990, 1290, 1470, 1390])"
   ]
  },
  {
   "cell_type": "markdown",
   "id": "888f9f21-fc26-4526-8cdf-aed0fe557959",
   "metadata": {},
   "source": [
    "H0: mu = 1200  \n",
    "H1: mu > 1200"
   ]
  },
  {
   "cell_type": "code",
   "execution_count": 15,
   "id": "bd61416a-d001-4e84-a107-beb11f50639c",
   "metadata": {},
   "outputs": [
    {
     "data": {
      "text/plain": [
       "1220.81"
      ]
     },
     "execution_count": 15,
     "metadata": {},
     "output_type": "execute_result"
    }
   ],
   "source": [
    "avg = data.mean()  # Считаем среднее по выборке (средний чек)\n",
    "avg"
   ]
  },
  {
   "cell_type": "code",
   "execution_count": 18,
   "id": "3d116056-f6b0-41dc-8637-6340f6e9a0ff",
   "metadata": {},
   "outputs": [],
   "source": [
    "alpha = 0.05  # задаем \n",
    "mu = 1200  # исходный средний чек\n",
    "sigma = data.std()  # стандартное отклонение\n",
    "n = len(data)  # число элементов выборки\n",
    "se = sigma/math.sqrt(n)  # стандартная ошибка"
   ]
  },
  {
   "cell_type": "code",
   "execution_count": 21,
   "id": "28a5086e-e367-46eb-ae45-293126a99c6f",
   "metadata": {},
   "outputs": [],
   "source": [
    "t_stat_distr = st.norm(mu, se)  # экземпляр нормального распределения"
   ]
  },
  {
   "cell_type": "code",
   "execution_count": 34,
   "id": "33620b28-9474-4658-a619-69d7bb130cd5",
   "metadata": {},
   "outputs": [],
   "source": [
    "x = np.linspace(mu - 4*se, mu + 4*se, 1000)  # генерация значений х в диапазоне 4 стандартных ошибок"
   ]
  },
  {
   "cell_type": "code",
   "execution_count": null,
   "id": "847e80d3-aa94-433a-987f-86c6689d89c0",
   "metadata": {},
   "outputs": [],
   "source": [
    "t_crit = t_stat_distr.ppf(1 - alpha)  # вычисление критического значения для заданного alpha"
   ]
  },
  {
   "cell_type": "code",
   "execution_count": 51,
   "id": "b68d6abe-746e-47fe-a35f-bfa84b1fe755",
   "metadata": {},
   "outputs": [
    {
     "data": {
      "text/plain": [
       "<matplotlib.lines.Line2D at 0x23e5c392fc0>"
      ]
     },
     "execution_count": 51,
     "metadata": {},
     "output_type": "execute_result"
    },
    {
     "data": {
      "image/png": "[encoded data removed]",
      "text/plain": [
       "<Figure size 640x480 with 1 Axes>"
      ]
     },
     "metadata": {},
     "output_type": "display_data"
    }
   ],
   "source": [
    "plt.plot(x, t_stat_distr.pdf(x))  # отрисовка плотности веротности (нормального распределения)\n",
    "plt.axvline(t_crit, color='#F80', linestyle='--')  # отрисовка границы (критического значения)\n",
    "plt.axvline(avg, color='#5F0')  # отрисовка наблюдения"
   ]
  },
  {
   "cell_type": "code",
   "execution_count": 47,
   "id": "1983d685-b925-4592-8e6f-916f7703d862",
   "metadata": {},
   "outputs": [
    {
     "data": {
      "text/plain": [
       "0.11901270348751547"
      ]
     },
     "execution_count": 47,
     "metadata": {},
     "output_type": "execute_result"
    }
   ],
   "source": [
    "p = (1-t_stat_distr.cdf(avg))  # вычисление P-значения\n",
    "p"
   ]
  },
  {
   "cell_type": "markdown",
   "id": "88d9661a-1454-4c59-977c-1909c1a5bd85",
   "metadata": {},
   "source": [
    "Если P-value < alpha - принимаем альтернативную гипотезу H1  \n",
    "Если P-value > alpha - принимаем основную гипотезу H0"
   ]
  },
  {
   "cell_type": "code",
   "execution_count": null,
   "id": "7830f015-cc70-4750-9c7d-e74a09fa04e3",
   "metadata": {},
   "outputs": [],
   "source": []
  },
  {
   "cell_type": "code",
   "execution_count": null,
   "id": "7397b016-023b-4c07-b5a0-3089d0714cf0",
   "metadata": {},
   "outputs": [],
   "source": []
  }
 ],
 "metadata": {
  "kernelspec": {
   "display_name": "Python 3 (ipykernel)",
   "language": "python",
   "name": "python3"
  },
  "language_info": {
   "codemirror_mode": {
    "name": "ipython",
    "version": 3
   },
   "file_extension": ".py",
   "mimetype": "text/x-python",
   "name": "python",
   "nbconvert_exporter": "python",
   "pygments_lexer": "ipython3",
   "version": "3.12.0"
  }
 },
 "nbformat": 4,
 "nbformat_minor": 5
}
