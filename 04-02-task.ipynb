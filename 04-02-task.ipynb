{
 "cells": [
  {
   "attachments": {},
   "cell_type": "markdown",
   "id": "1fe7131a-5b76-4f8c-8900-e01e5fd1288f",
   "metadata": {
    "tags": []
   },
   "source": [
    "# Неделя 1. Вторник"
   ]
  },
  {
   "attachments": {},
   "cell_type": "markdown",
   "id": "56ca6c88-65c4-4129-b86c-2eee43c93a4c",
   "metadata": {
    "tags": []
   },
   "source": [
    "## Статистика и распределения"
   ]
  },
  {
   "attachments": {},
   "cell_type": "markdown",
   "id": "c1982882-9e2f-415f-bc83-68e874d65f9f",
   "metadata": {},
   "source": [
    "**1.** В рамках исследования рынка продуктового ассортимента компании, было определено, что у трех товаров имеются следующие ценовые значения: $2, 4$ и $6$ условных единиц. Мы провели анализ и выяснили, что средняя цена товаров составляет $\\mathbb{E} \\left[ X \\right] = 4.2$, а дисперсия цен равна $\\mathbb{D} \\left[X \\right] = 1.96$. Найти вероятности покупки каждого из товаров  \n",
    "\n",
    "`Примечание: получившуюся систему линейных уравнений можно решить с помощью любого онлайн калькулятора`\n",
    "\n",
    "|  случайная величина X   | 2 | 4    | 6   |\n",
    "|------|---|------|------|\n",
    "| вероятность p | ? | ? | ? |"
   ]
  },
  {
   "attachments": {},
   "cell_type": "markdown",
   "id": "f624e658-f3f6-48c2-bc88-0445ff6aaca7",
   "metadata": {},
   "source": [
    "Р(Х=2) = р1\n",
    "Р(Х=4) = р2\n",
    "З(Х=6) = р3\n",
    "\n",
    "D[X] = E[(X - E[X])²] = E[X²] - (E[X])²"
   ]
  },
  {
   "cell_type": "code",
   "execution_count": 76,
   "id": "41ce13e4",
   "metadata": {},
   "outputs": [
    {
     "name": "stdout",
     "output_type": "stream",
     "text": [
      "+------+------+------+\n",
      "|   p1 |   p2 |   p3 |\n",
      "+======+======+======+\n",
      "|  0.2 |  0.5 |  0.3 |\n",
      "+------+------+------+\n"
     ]
    }
   ],
   "source": [
    "import numpy as np\n",
    "from scipy.stats import binom\n",
    "import matplotlib.pyplot as plt\n",
    "import seaborn as sns\n",
    "import tabulate as tabul\n",
    "\n",
    "\n",
    "def calculate_probabilities():\n",
    "    \"\"\"\n",
    "    Решает систему уравнений для нахождения вероятностей покупки товаров.\n",
    "    Уравнения:\n",
    "    1. p1 + p2 + p3 = 1\n",
    "    2. 2p1 + 4p2 + 6p3 = 4.2\n",
    "    3. 4p1 + 16p2 + 36p3 = 19.6\n",
    "    Возвращает вероятности p1, p2, p3.\n",
    "    \"\"\"\n",
    "    # Матрица коэффициентов системы уравнений\n",
    "    A = np.array([\n",
    "        [1, 1, 1],    # Сумма вероятностей = 1\n",
    "        [2, 4, 6],    # Уравнение для математического ожидания\n",
    "        [4, 16, 36]   # Уравнение для E[X^2]\n",
    "    ])\n",
    "\n",
    "    # Вектор правых частей уравнений\n",
    "    b = np.array([1, 4.2, 19.6])\n",
    "\n",
    "    # Решение системы уравнений\n",
    "    probabilities = np.linalg.solve(A, b)\n",
    "\n",
    "    return probabilities\n",
    "\n",
    "# Вызов функции и вывод результата\n",
    "p1, p2, p3 = calculate_probabilities()\n",
    "\n",
    "print(tabul.tabulate([[p1, p2, p3]], headers=['p1', 'p2', 'p3'], tablefmt='grid'))"
   ]
  },
  {
   "cell_type": "code",
   "execution_count": null,
   "id": "dcb1e947",
   "metadata": {},
   "outputs": [],
   "source": [
    "# E[X] = 4.2\n",
    "# D[X] = 1.96\n",
    "# E[X²] = 19.6\n",
    "\n",
    "#1 P1 + P2 + P3 = 1\n",
    "#2 2P1 + 4P2 + 6P3 = 4.2\n",
    "#3 4P1 + 16P2 + 36P3 = 19.6\n",
    "\n",
    "#P3 = 1 - P1 - P2\n",
    "#2P1 + 4P2 + 6(1 - P1 - P2) = 4.2\n",
    "#2P1 + 4P2 + 6 - 6P1 - 6P2 = 4.2\n",
    "#-4P1 - 2P2 + 6 = 4.2\n",
    "#-4P1 - 2P2 = -1.8\n",
    "#4P1 + 2P2 = 1.8\n",
    "\n",
    "\n",
    "\n",
    "\n",
    "\n",
    "D[X] = E[X²] - (E[X])²\n",
    "\n",
    "E[X²] = D[X] + (E[X])²\n",
    "E[X²] = 1.96 + 4.2²\n",
    "E[X²] = 1.96 + 17.64\n",
    "E[X²] = 19.6\n"
   ]
  },
  {
   "attachments": {},
   "cell_type": "markdown",
   "id": "e13a3dc7-12db-4be4-aa64-2ed0ac019360",
   "metadata": {},
   "source": [
    "**2.** Контрольная работа состоит из трех вопросов. На каждый вопрос приведено четыре варианта ответа, один из которых правильный. Составить закон распределения числа правильных ответов при простом угадывании. Найти $\\mathbb{E}(X)$, $\\mathbb{D}(X)$.\n"
   ]
  },
  {
   "cell_type": "code",
   "execution_count": 42,
   "id": "32802658",
   "metadata": {},
   "outputs": [
    {
     "name": "stdout",
     "output_type": "stream",
     "text": [
      " P(x=0) = 0.42\n",
      " P(x=1) = 0.14\n",
      " P(x=2) = 0.015\n",
      " P(x=3) = 0.015\n"
     ]
    }
   ],
   "source": [
    "n = 3\n",
    "p = 0.25\n",
    "\n",
    "distr = binom(n, p)\n",
    "print(f\" P(x=0) = {p1}\\n P(x=1) = {p2}\\n P(x=2) = {p3}\\n P(x=3) = {p4}\")"
   ]
  },
  {
   "cell_type": "code",
   "execution_count": 36,
   "id": "80db588d",
   "metadata": {},
   "outputs": [
    {
     "name": "stdout",
     "output_type": "stream",
     "text": [
      "Мат. ожидание: 0.745, Дисперсия: 0.559975\n"
     ]
    }
   ],
   "source": [
    "p0 = 0.42\n",
    "p1 = 0.42\n",
    "p2 = 0.14\n",
    "p3 = 0.015\n",
    "\n",
    "E = p0 * 0 + p1 * 1 + p2 * 2 + p3 * 3\n",
    "Ex2 = p0 * 0**2 + p1 * 1**2 + p2 * 2**2 + p3 * 3**2\n",
    "D = Ex2 - E**2\n",
    "print(f\"Мат. ожидание: {E}, Дисперсия: {D}\")\n"
   ]
  },
  {
   "attachments": {},
   "cell_type": "markdown",
   "id": "ad2019a3-65c4-45dd-90ad-9f7739c13dd6",
   "metadata": {},
   "source": [
    "**3.** Дан закон распределения случайной величины: \n",
    "\n",
    "|  2   | 5 | 8    | 11   |\n",
    "|------|---|------|------|\n",
    "| 0.46 | ? | 0.11 | 0.14 |\n",
    "\n",
    "* Найди неизвестную вероятность и объясните, почему ответ именно такой. "
   ]
  },
  {
   "cell_type": "code",
   "execution_count": 65,
   "id": "94bec218",
   "metadata": {},
   "outputs": [
    {
     "name": "stdout",
     "output_type": "stream",
     "text": [
      "+------+--------+------+------+\n",
      "|    2 | 5      |    8 |   11 |\n",
      "+======+========+======+======+\n",
      "| 0.46 | {0.29} | 0.11 | 0.14 |\n",
      "+------+--------+------+------+\n"
     ]
    }
   ],
   "source": [
    "five = {round(1 - 0.46 - 0.11 - 0.14, 2)}\n",
    "print(tabul.tabulate([ [0.46, five, 0.11, 0.14]], headers=['2', '5', '8', '11'], tablefmt='grid'))\n",
    "\n",
    "#Сумма всех вероятностей в закон распределения случайной величины должна равняться 1"
   ]
  },
  {
   "attachments": {},
   "cell_type": "markdown",
   "id": "34e51891-b3f7-40f7-968b-d816e81df5e8",
   "metadata": {},
   "source": [
    "* Визуализируй функцию распределения по полученному в предыдущем пункте результату"
   ]
  },
  {
   "cell_type": "code",
   "execution_count": 95,
   "id": "4fa67cd6-66b6-438d-bb56-9d438d3502c9",
   "metadata": {},
   "outputs": [
    {
     "name": "stderr",
     "output_type": "stream",
     "text": [
      "/tmp/ipykernel_4427/4065767165.py:1: FutureWarning: \n",
      "\n",
      "Passing `palette` without assigning `hue` is deprecated and will be removed in v0.14.0. Assign the `x` variable to `hue` and set `legend=False` for the same effect.\n",
      "\n",
      "  sns.barplot(x=[2, 5, 8, 11], y=[0.46, 0.29, 0.11, 0.14], palette='viridis')\n"
     ]
    },
    {
     "data": {
      "text/plain": [
       "<Axes: >"
      ]
     },
     "execution_count": 95,
     "metadata": {},
     "output_type": "execute_result"
    },
    {
     "data": {
      "image/png": "[encoded data removed]",
      "text/plain": [
       "<Figure size 640x480 with 1 Axes>"
      ]
     },
     "metadata": {},
     "output_type": "display_data"
    }
   ],
   "source": [
    "sns.barplot(x=[2, 5, 8, 11], y=[0.46, 0.29, 0.11, 0.14], palette='viridis')"
   ]
  },
  {
   "attachments": {},
   "cell_type": "markdown",
   "id": "6ad7fc35-8bcc-483d-9e7f-48db4b3444d9",
   "metadata": {},
   "source": [
    "**4.** Мы являемся владельцами розничного магазина и хотим оптимизировать нашу обслуживающую систему, чтобы обеспечить удобство покупателей и эффективность работы магазина. Известно, что в среднем в магазин заходит 3 человека в минуту. Нам бы хотелось оценить все вероятности потока людей, что правильно планировать наши ресурсы"
   ]
  },
  {
   "attachments": {},
   "cell_type": "markdown",
   "id": "67c7119a-ad46-45a1-8773-14de9b937600",
   "metadata": {},
   "source": [
    "* Что это за распределение?"
   ]
  },
  {
   "attachments": {},
   "cell_type": "markdown",
   "id": "592b8b8d-40a9-4017-938b-25f38aeaae07",
   "metadata": {},
   "source": [
    "> ответ тут"
   ]
  },
  {
   "attachments": {},
   "cell_type": "markdown",
   "id": "6ed32373-0c08-4f9b-aab3-03a33e5745b7",
   "metadata": {},
   "source": [
    "* Найти вероятность того, что за 2 минуты в магазин зайдет не более 1 человека."
   ]
  },
  {
   "attachments": {},
   "cell_type": "markdown",
   "id": "9e9d9405-7118-471d-8c18-4cfaad1f356a",
   "metadata": {},
   "source": [
    "> ответ тут"
   ]
  },
  {
   "attachments": {},
   "cell_type": "markdown",
   "id": "c91667b6-9e36-4619-bf77-e822972a0362",
   "metadata": {},
   "source": [
    "* Визуализируй это распределение с вычисленным параметром с помощью бибилиотеки `scipy`"
   ]
  },
  {
   "cell_type": "code",
   "execution_count": null,
   "id": "fe0cd5e5-316d-42e7-8cd6-a39bdff23ae3",
   "metadata": {},
   "outputs": [],
   "source": [
    "# code"
   ]
  },
  {
   "attachments": {},
   "cell_type": "markdown",
   "id": "fe217ccc-4ac2-4998-a1aa-413f58c70d29",
   "metadata": {},
   "source": [
    "<img src=\"https://icons.iconarchive.com/icons/icons8/windows-8/256/Programming-Github-icon.png\" width=32 /> Пора сохранить изменения для __github__. \n",
    "\n",
    "1. Перейди в командной строке в папку, в которой расположен этот нотбук. \n",
    "2. Выполни команду `git add .`\n",
    "3. Выполни команду `git commit -m \"stat tasks in progress\"`\n",
    "4. Выполни команду `git push`"
   ]
  },
  {
   "cell_type": "code",
   "execution_count": 1,
   "id": "a9304a4c-5cd8-44d2-addd-f33d16253473",
   "metadata": {},
   "outputs": [],
   "source": [
    "# code"
   ]
  },
  {
   "attachments": {},
   "cell_type": "markdown",
   "id": "0ad30a58-cc77-48b1-80ef-f0f16c9cc13b",
   "metadata": {},
   "source": [
    "**5.** Нами закуплен новый станок для работы по металлу. Известно, что время работы этого станка до первого отказа подчиняется показательному(экспоненциальному) распределению со средним значением 1 год. Отказ этого станка для нас это огромные убытки. \n",
    "\n",
    "* Какова вероятность, что до первого отказа пройдет не менее 2 лет?"
   ]
  },
  {
   "attachments": {},
   "cell_type": "markdown",
   "id": "6f048ee0-5cbf-4a7f-aa0c-957cb0161a38",
   "metadata": {},
   "source": [
    "> ответ тут"
   ]
  },
  {
   "attachments": {},
   "cell_type": "markdown",
   "id": "02f8e31b-bac1-4b0a-9405-b06f6a582d12",
   "metadata": {},
   "source": [
    "* Визуализируй это распределение"
   ]
  },
  {
   "cell_type": "code",
   "execution_count": 2,
   "id": "237874d8-8b02-4d64-b97c-8c5a9dbf5d94",
   "metadata": {},
   "outputs": [],
   "source": [
    "# code"
   ]
  },
  {
   "attachments": {},
   "cell_type": "markdown",
   "id": "3781c260-25e1-4a53-965a-a512dc7b6150",
   "metadata": {},
   "source": [
    "**6.** С базы в магазин отправлено 4000 тщательно упакованных доброкачественных изделий. Вероятность того, что изделие повредится в пути, равна 0.0005."
   ]
  },
  {
   "attachments": {},
   "cell_type": "markdown",
   "id": "b31333ef-2f4e-4209-b829-76728d0fd13a",
   "metadata": {},
   "source": [
    "* Что это за распределение?"
   ]
  },
  {
   "attachments": {},
   "cell_type": "markdown",
   "id": "a8ca1067-6928-452f-bb63-94f06c396e03",
   "metadata": {},
   "source": [
    "> ответ тут"
   ]
  },
  {
   "attachments": {},
   "cell_type": "markdown",
   "id": "6cedaabe-b793-4c14-8337-606608686fb0",
   "metadata": {},
   "source": [
    "* Найти вероятность того, что из 4000 изделий в магазин прибудут 3 испорченных изделия."
   ]
  },
  {
   "attachments": {},
   "cell_type": "markdown",
   "id": "0809ac35-190d-47fd-91da-a197892398bf",
   "metadata": {},
   "source": [
    "> ответ тут"
   ]
  },
  {
   "attachments": {},
   "cell_type": "markdown",
   "id": "34b06439-0506-49b1-be03-47af1b1b455c",
   "metadata": {},
   "source": [
    "**7.** Рост мальчиков возрастной группы 15 лет - нормально распределённая случайная величина $X$ с параметрами $\\mu=161$ см и $\\sigma=4$ см.\n",
    "* Какую долю костюмов для мальчиков, имеющих рост от 152 до 158 см, нужно предусмотреть в объёме производства для данной возрастной группы?"
   ]
  },
  {
   "attachments": {},
   "cell_type": "markdown",
   "id": "6193e070-d8dd-4b03-8f4d-ed216938ad4c",
   "metadata": {},
   "source": [
    "> ответ тут"
   ]
  },
  {
   "attachments": {},
   "cell_type": "markdown",
   "id": "8153ca48-50ce-4d62-9d63-ffbfc83630e3",
   "metadata": {},
   "source": [
    "* Сформулируй правило трёх сигм для случайной величины $X\\sim\\mathcal{N}$."
   ]
  },
  {
   "attachments": {},
   "cell_type": "markdown",
   "id": "f2fd06c2-05ef-4b2b-9b64-6c9ff3686a0b",
   "metadata": {},
   "source": [
    "> ответ тут"
   ]
  },
  {
   "attachments": {},
   "cell_type": "markdown",
   "id": "6feacb44-bcfd-4563-a5ac-b1a7911b4d5f",
   "metadata": {},
   "source": [
    "* Визуализируй следующие элементы: \n",
    "    * кривую плотности вероятности для указанных параметров и распределения\n",
    "    * залей выдели цветом нужный фрагмет диаграммы (примерно это должно выглядеть [так](https://i.stack.imgur.com/c8F3F.png), только с твоими параметрами)"
   ]
  },
  {
   "cell_type": "code",
   "execution_count": 3,
   "id": "ac3a4a5a-144c-423b-ae7c-f0934f9cb3d8",
   "metadata": {},
   "outputs": [],
   "source": [
    "# code"
   ]
  },
  {
   "attachments": {},
   "cell_type": "markdown",
   "id": "a9562604-c83d-4f1c-b93a-9b7355f3c120",
   "metadata": {},
   "source": [
    "❓От чего зависит форма кривой нормального распределения? "
   ]
  },
  {
   "attachments": {},
   "cell_type": "markdown",
   "id": "6264701b-fe3a-4a3c-ade6-5461d79a110d",
   "metadata": {},
   "source": [
    "> ответ тут"
   ]
  },
  {
   "cell_type": "markdown",
   "id": "e2ff1346",
   "metadata": {},
   "source": [
    "**8**. Среднее время обслуживания одного клиента составляет 10 минут, а стандартное отклонение равно 2 минутам. Выстроилось очередь из 20 клиентов. Какова вероятность, что среднее время обсулуживание этих клиентов будет меньше 11 минут\n",
    "\n",
    "`Подсказка: Центральная предельная теорема`"
   ]
  },
  {
   "attachments": {},
   "cell_type": "markdown",
   "id": "a2ddaa63-eb77-48a5-bcda-0e2340979b67",
   "metadata": {},
   "source": [
    "<img src=\"https://icons.iconarchive.com/icons/icons8/windows-8/256/Programming-Github-icon.png\" width=32 /> Сохрани файл для __github__. \n",
    "\n",
    "1. Перейди в командной строке в папку, в которой расположен этот нотбук. \n",
    "2. Выполни команду `git add .`\n",
    "3. Выполни команду `git commit -m \"stat tasks completed\"`\n",
    "4. Выполни команду `git push`"
   ]
  }
 ],
 "metadata": {
  "kernelspec": {
   "display_name": "base",
   "language": "python",
   "name": "python3"
  },
  "language_info": {
   "codemirror_mode": {
    "name": "ipython",
    "version": 3
   },
   "file_extension": ".py",
   "mimetype": "text/x-python",
   "name": "python",
   "nbconvert_exporter": "python",
   "pygments_lexer": "ipython3",
   "version": "3.12.9"
  }
 },
 "nbformat": 4,
 "nbformat_minor": 5
}
