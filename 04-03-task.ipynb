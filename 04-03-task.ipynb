{
 "cells": [
  {
   "cell_type": "markdown",
   "id": "5e12cfa3-5597-4591-9203-793f4de5c703",
   "metadata": {},
   "source": [
    "# Неделя 1. Среда\n",
    "## Проверка статистических гипотез"
   ]
  },
  {
   "cell_type": "markdown",
   "id": "287d3c2b-74ef-4b29-b63c-71ed96f082ca",
   "metadata": {},
   "source": [
    "* __Главной задачей сегодняшнего дня является понимание того, как устроена философия проверки гипотез и ее шаги__. \n",
    "\n",
    "1. Исходная выборка/выборки из ГС\n",
    "2. Сформулировать основную и альтернативную гипотезы\n",
    "3. Зафиксировать уровень значимости($\\alpha$) и выбрать статистику\n",
    "4. Вычисляем значение статистики, которое получили по выборке\n",
    "5. Так как выборка это случайность, то __Статистика тоже случайная величина, так как зависит от выборки, а значит имеет распределение__. Нам важно его знать\n",
    "6. Зная распределение статистики, мы можем по полученному нами значению(пункт 4) понять, аномальное значение мы получили в конектсте нашего распределения или же нет.\n",
    "7. Принять решение о справедливости гипотезы на уровне значимости $\\alpha$"
   ]
  },
  {
   "cell_type": "markdown",
   "id": "07bcda53-d085-441f-a4e4-7f5c6e36d1e8",
   "metadata": {},
   "source": [
    "* Завтра нашим фокусом будут уже конкретные статистические тесты, их формулы статистики, распределения этих статистик и область применения"
   ]
  },
  {
   "cell_type": "code",
   "execution_count": 10,
   "id": "86c357bc-5704-44c5-8070-86f272683244",
   "metadata": {},
   "outputs": [],
   "source": [
    "import pandas\n",
    "import numpy as np\n",
    "import seaborn as sns\n",
    "import scipy.stats as st\n",
    "\n",
    "from matplotlib import pyplot as plt"
   ]
  },
  {
   "cell_type": "markdown",
   "id": "23fe471d-d998-44d7-bb08-84239a9e05c4",
   "metadata": {},
   "source": [
    "### 1. Гипотеза о среднем"
   ]
  },
  {
   "cell_type": "markdown",
   "id": "2a782aa0-febe-44e5-9906-00b3308f7652",
   "metadata": {},
   "source": [
    "##### 1.1 \n",
    "\n",
    "* у вас есть веб-сервис для онлайн-курсов, и вы решили внедрить новую ML-модель рекомендаций курсов для увеличения уровня участия студентов. Вы хотите оценить, насколько новая система рекомендаций влияет на время, которое студенты проводят на платформе.\n",
    "\n",
    "* случайным образом выбрано 100 студентов и записано количество часов, которое они провели на платформе через месяц после.\n",
    "\n",
    "* ранее среднее время составляло 29.07 часа. Проверьте, есть ли статистически значимое улучшение на уровне значимости $\\alpha = 0.05$ от ML-модели."
   ]
  },
  {
   "cell_type": "markdown",
   "id": "02faf40e-e5dc-42af-97bb-d8e1d271219b",
   "metadata": {},
   "source": [
    "$H_0: \\mu = 29.07$\n",
    "\n",
    "$H_1: \\mu > 29.07$"
   ]
  },
  {
   "cell_type": "code",
   "execution_count": 27,
   "metadata": {},
   "outputs": [],
   "source": [
    "arr = np.array(\n",
    "    [28.91, 26.45, 30.97, 32.58, 30.23, 27.26, 31.33, 30.4 , 28.29,\n",
    "     27.26, 26.08, 33.19, 29.18, 27.32, 31.36, 30.74, 28.86, 27.87,\n",
    "     26.37, 33.56, 29.09, 27.81, 31.07, 30.73, 28.94, 27.02, 26.76,\n",
    "     33.97, 29.73, 27.86, 31.28, 30.01, 28.55, 27.1 , 26.46, 33.22,\n",
    "     29.55, 27.41, 31.09, 30.88, 28.01, 27.48, 26.61, 33.19, 29.67,\n",
    "     27.22, 31.02, 30.16, 28.92, 27.79, 26.58, 33.81, 29.42, 27.89,\n",
    "     31.13, 30.15, 28.51, 27.21, 26.53, 33.1 , 29.14, 27.27, 31.71,\n",
    "     30.84, 28.05, 27.16, 26.04, 33.7 , 29.92, 27.89, 31.87, 30.99,\n",
    "     28.84, 27.5 , 26.87, 33.6 , 30.  , 27.32, 31.85, 30.67, 28.94,\n",
    "     27.69, 26.65, 33.29, 29.34, 27.71, 31.62, 30.48, 28.18, 27.77,\n",
    "     26.61, 33.19, 29.7 , 27.47, 31.05, 30.14, 28.4 , 27.52, 26.19,\n",
    "     34.04]\n",
    "    )\n",
    "\n"
   ]
  },
  {
   "cell_type": "markdown",
   "id": "f1554300-09d7-4d3b-b49d-238d56dceb1e",
   "metadata": {},
   "source": [
    "* Ну что ж, нам нужна __статистика__, которая агрегирует всю информацию о выборке.\n",
    "\n",
    "* если выбрать статистику $T(X) = \\dfrac{1}{n} \\sum_{i=1}^{n}x_i = \\overline{X}$, то мы имеем дело со знакомым уже нам выборчным средним. Можно как минимум воспользоваться [Центральной Предельной Теоремой](https://nesrakonk.ru/central_limit_theorem-2/), при ней мы знаем, что $\\overline{X} \\sim N(\\mu, \\dfrac{\\sigma^2}{n})$"
   ]
  },
  {
   "cell_type": "markdown",
   "id": "1cec1da2-caf8-4b7e-bea2-643f57dc0129",
   "metadata": {},
   "source": [
    "В Нашем случае мы предполагам что $\\mu = 29.07$, но мы не знаем дисперсию $\\sigma^2$ у ГС. Поэтому приблизим выборчной дисперсией $s^2 = \\dfrac{1}{n-1} \\sum_{i=1}^n (x_i - \\overline{X}) ^ 2$."
   ]
  },
  {
   "cell_type": "markdown",
   "id": "c9ee5999-ae02-4ec3-8069-61b90f8ef421",
   "metadata": {},
   "source": [
    "* 1.1.1 Посчитайте значение статистики, полученной по нашей выборке"
   ]
  },
  {
   "cell_type": "code",
   "execution_count": 99,
   "id": "44d64c48-61c6-4ff5-b696-a3aba32e972c",
   "metadata": {},
   "outputs": [],
   "source": [
    "# t_stat = ..."
   ]
  },
  {
   "cell_type": "markdown",
   "id": "dc972605-cd71-4a84-9d6b-7cc663e24c7b",
   "metadata": {},
   "source": [
    "* 1.1.2 С помощью [scipy](https://docs.scipy.org/doc/scipy/reference/generated/scipy.stats.norm.html) создайте экземпляр класса распределения вашей статистики, с ее параметрами. "
   ]
  },
  {
   "cell_type": "code",
   "execution_count": null,
   "id": "97e61c49-8705-426c-81b0-95f9b9ed6d61",
   "metadata": {},
   "outputs": [],
   "source": [
    "# distr = ..."
   ]
  },
  {
   "cell_type": "markdown",
   "id": "965d23e7-9761-48c5-8267-cfa01f18d729",
   "metadata": {},
   "source": [
    "* 1.1.3 Посчитайте критическое значение для вашей статистики"
   ]
  },
  {
   "cell_type": "code",
   "execution_count": 100,
   "id": "411dbe9b-a8aa-4a03-a5c5-033cffa3274e",
   "metadata": {},
   "outputs": [],
   "source": [
    "# t_crit = ... "
   ]
  },
  {
   "cell_type": "markdown",
   "id": "2f41ad93-143e-4d3a-a977-19980c0b5b5d",
   "metadata": {},
   "source": [
    "* 1.1.4 Нарисуйте график распределения вашей статистики, отобразите на нем следующее:\n",
    "    1. Пунктирной линией t_stat\n",
    "    2. Пунктирной линией t_crit"
   ]
  },
  {
   "cell_type": "code",
   "execution_count": 103,
   "id": "bbe49a6d-2e60-4367-b92b-0002611f9926",
   "metadata": {},
   "outputs": [],
   "source": [
    "# your code"
   ]
  },
  {
   "cell_type": "markdown",
   "id": "d965c2b4-a5f8-4f3d-9c5b-8623b7a564a1",
   "metadata": {},
   "source": [
    "* 1.1.5 Посчитайте p-value"
   ]
  },
  {
   "cell_type": "code",
   "execution_count": null,
   "id": "ff5ca9ae-e7c0-4fd5-8dce-5ac14c3cfea1",
   "metadata": {},
   "outputs": [],
   "source": [
    "# p_value = ..."
   ]
  },
  {
   "cell_type": "markdown",
   "id": "24ee3e8d-1010-4cee-92b8-87a5dc13c91a",
   "metadata": {},
   "source": [
    "* 1.1.6 На основании значения статистики и p-value, примите решение о справедливости гипотезы"
   ]
  },
  {
   "cell_type": "markdown",
   "id": "c6799f4d-b247-46f2-8027-b970ad7b91e0",
   "metadata": {},
   "source": [
    "> ваш ответ"
   ]
  },
  {
   "cell_type": "markdown",
   "id": "a3e3d66f-b1b8-4765-8784-633ac6bff8f2",
   "metadata": {},
   "source": [
    "##### 1.2 В ресторане появилось новое экспериментальное блюдо, которое в планах должно заменить одно из старых блюд. Необходимо количественно оценить, лучше ли оно старого блюда, или нет. Для этого был проведен эксперимент, в рамках которого людям давали попробовать и просили оценить блюда по шкале от 1 до 10. Получились две выборки:"
   ]
  },
  {
   "cell_type": "code",
   "execution_count": 62,
   "id": "147d296b-5dee-457d-8879-192744ae9912",
   "metadata": {},
   "outputs": [],
   "source": [
    "old = np.array([6, 8, 4, 7, 8, 7, 5, 9, 7, 6, 9, 8, 6, 9, 5, 7, 10, 8, 6, 7, 8, 10, 8, 7, \\\n",
    "                9, 6, 7, 8, 5, 9, 9, 8, 8, 6, 6, 7, 9, 7, 7, 7, 7, 8, 8, 7, 8, 6, 8, 8, 8, 8])\n",
    "new = np.array([9, 8, 5, 9, 10, 9, 6, 8, 8, 8, 9, 7, 7, 8, 6, 9, 7, 9, 8, 8, 7, 7, 8, 5, 9,\\\n",
    "                8, 7, 7, 7, 9, 8, 8, 7, 7, 9, 8, 9, 6, 5, 9, 8, 9, 6, 9, 9, 8, 10, 8, 10, 10])"
   ]
  },
  {
   "cell_type": "markdown",
   "id": "84a11c2b",
   "metadata": {},
   "source": [
    "* Можно взглянуть на распределение оценок блюд"
   ]
  },
  {
   "cell_type": "code",
   "execution_count": 80,
   "id": "6f5c2760-5aaf-4634-a7d1-37bc30e11b27",
   "metadata": {},
   "outputs": [
    {
     "data": {
      "image/png": "[encoded data removed]",
      "text/plain": [
       "<Figure size 1500x700 with 2 Axes>"
      ]
     },
     "metadata": {},
     "output_type": "display_data"
    }
   ],
   "source": [
    "fig, axes = plt.subplots(1, 2, figsize=(15, 7))\n",
    "\n",
    "sns.histplot(new ,ax=axes[0], bins = np.arange(4.5, 11.5, 1))\n",
    "sns.histplot(old ,ax=axes[1], bins = np.arange(3.5, 11.5, 1))\n",
    "\n",
    "axes[0].set_title('Распределение оценок новых блюд')\n",
    "axes[1].set_title('Распределение оценок старых блюд')\n",
    "\n",
    "plt.show();"
   ]
  },
  {
   "cell_type": "markdown",
   "id": "2f65ca33-b311-4887-a937-7bc61c07526a",
   "metadata": {},
   "source": [
    "$H_0 : \\mu_{new} = \\mu_{old}$\n",
    "\n",
    "$H_1 : \\mu_{new} \\neq \\mu_{old}$  или $H_1 : \\mu_{new} > \\mu_{old}$ или $H_1 : \\mu_{new} < \\mu_{old}$\n",
    "\n",
    "$\\mu$ - это среднее по группе.  \n",
    "\n",
    "* Иначе говоря, мы пытаемся ответить на вопрос, является ли новое блюдо лучше в среднем по Генеральной Совокупности посетителей нашего ресторана"
   ]
  },
  {
   "cell_type": "markdown",
   "id": "f3840423-035a-4d84-956d-a9986243fda3",
   "metadata": {},
   "source": [
    "Такие задачи называются __проверкой гипотезы__ о среднем и встречаются чаще всего"
   ]
  },
  {
   "cell_type": "markdown",
   "id": "409b1376-c36e-42fa-b45d-76e60578a0f6",
   "metadata": {},
   "source": [
    "Реализуйте следующую статистику: \n",
    "    \n",
    "    \n",
    "$T(X) = \\dfrac{\\overline{X}_{new} - \\overline{X}_{old}}{\\sqrt{{\\dfrac{s^2_{new}}{n_{new}}} + \\dfrac{s^2_{old}}{n_{old}}}}$  \n",
    "\n",
    "где $\\overline{X}$ - выборочные средние, $s^2$ - выборочные дисперсии, n - количество элементов в выборке.  \n",
    "\n",
    "\n",
    "Такая статистика имеет [t-распределение](https://en.wikipedia.org/wiki/Student%27s_t-distribution) или иногда называют распределением Стьюдента. По форме оно очень похоже на нормальное и если быть предельно точным, то на больших выборках t-распределение стремится к нормальному. \n",
    "\n",
    "$T(X) \\sim t(n_{new} + n_{old} - 2)$"
   ]
  },
  {
   "cell_type": "markdown",
   "id": "7e549914-d379-4fd3-b846-cf22372008b6",
   "metadata": {},
   "source": [
    "Обернуть все в функцию, позволяющую вычислять двухвыборочный t-тест. \n",
    "Функция должна принимать следующие аргументы: \n",
    "* `sample_1`, `sample_2` - два списка выборочными данными\n",
    "* `alternative` принимает одно из трех значений: `twosided`, `left`, `right`. Аргумент позволяет контролировать вид проверяемой альтернативы. \n",
    "* `alpha` - уровень значимости\n",
    "\n",
    "Функция должна распечатывать результат проверки аналогично примеру выше, а также возвращать значение статистики и `p_value`. "
   ]
  },
  {
   "cell_type": "code",
   "execution_count": null,
   "id": "c02e64b6-f502-4534-8150-ad4c3bf7f289",
   "metadata": {},
   "outputs": [],
   "source": [
    "def ttest(sample_1, sample_2, alternative='twosided', alpha=.05, independent=True):\n",
    "    pass\n",
    "    return t_stat, p_value"
   ]
  },
  {
   "cell_type": "markdown",
   "id": "d3ceade6-16a0-42f4-b872-b9f2b6a480b3",
   "metadata": {},
   "source": [
    "<img src=\"https://icons.iconarchive.com/icons/icons8/windows-8/256/Programming-Github-icon.png\" width=32 /> Пора сохранить изменения для __github__. \n",
    "\n",
    "1. Перейди в командной строке в папку, в которой расположен этот нотбук. \n",
    "2. Выполни команду `git add 04-03-task.ipynb`\n",
    "3. Выполни команду `git commit -m \"hypothesis tasks in progress\"`\n",
    "4. Выполни команду `git push`"
   ]
  }
 ],
 "metadata": {
  "kernelspec": {
   "display_name": "Python 3 (ipykernel)",
   "language": "python",
   "name": "python3"
  },
  "language_info": {
   "codemirror_mode": {
    "name": "ipython",
    "version": 3
   },
   "file_extension": ".py",
   "mimetype": "text/x-python",
   "name": "python",
   "nbconvert_exporter": "python",
   "pygments_lexer": "ipython3",
   "version": "3.10.13"
  }
 },
 "nbformat": 4,
 "nbformat_minor": 5
}
