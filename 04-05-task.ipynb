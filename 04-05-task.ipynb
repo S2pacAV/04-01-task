{
 "cells": [
  {
   "attachments": {},
   "cell_type": "markdown",
   "id": "eb8c9811-d019-4a86-82ba-105a9952f77f",
   "metadata": {},
   "source": [
    "# Неделя 1. Пятница"
   ]
  },
  {
   "cell_type": "code",
   "execution_count": 12,
   "id": "72b98de1-4d64-4698-a7a3-8fcf170621bd",
   "metadata": {},
   "outputs": [],
   "source": [
    "import pandas as pd\n",
    "import numpy as np\n",
    "import scipy.stats as st\n",
    "import seaborn as sns\n",
    "import matplotlib.pyplot as plt\n",
    "%matplotlib inline\n",
    "import warnings\n",
    "warnings.filterwarnings('ignore')"
   ]
  },
  {
   "cell_type": "code",
   "execution_count": 2,
   "id": "8a88df3a-a742-4686-b9e8-7f63f143ef8c",
   "metadata": {},
   "outputs": [],
   "source": [
    "transactions = pd.read_csv('aux/transactions.csv').drop('Unnamed: 0', axis=1)\n",
    "users = pd.read_csv('aux/users.csv').drop('Unnamed: 0', axis=1)"
   ]
  },
  {
   "cell_type": "code",
   "execution_count": 6,
   "id": "c5e089bf",
   "metadata": {},
   "outputs": [
    {
     "data": {
      "text/html": [
       "<div>\n",
       "<style scoped>\n",
       "    .dataframe tbody tr th:only-of-type {\n",
       "        vertical-align: middle;\n",
       "    }\n",
       "\n",
       "    .dataframe tbody tr th {\n",
       "        vertical-align: top;\n",
       "    }\n",
       "\n",
       "    .dataframe thead th {\n",
       "        text-align: right;\n",
       "    }\n",
       "</style>\n",
       "<table border=\"1\" class=\"dataframe\">\n",
       "  <thead>\n",
       "    <tr style=\"text-align: right;\">\n",
       "      <th></th>\n",
       "      <th>transaction_id</th>\n",
       "      <th>user_id</th>\n",
       "      <th>date</th>\n",
       "      <th>revenue</th>\n",
       "      <th>group</th>\n",
       "    </tr>\n",
       "  </thead>\n",
       "  <tbody>\n",
       "    <tr>\n",
       "      <th>0</th>\n",
       "      <td>6776893763</td>\n",
       "      <td>3392612285</td>\n",
       "      <td>2017-06-15</td>\n",
       "      <td>3758.2</td>\n",
       "      <td>B</td>\n",
       "    </tr>\n",
       "    <tr>\n",
       "      <th>1</th>\n",
       "      <td>40289040</td>\n",
       "      <td>8006342366</td>\n",
       "      <td>2017-06-15</td>\n",
       "      <td>1518.7</td>\n",
       "      <td>B</td>\n",
       "    </tr>\n",
       "    <tr>\n",
       "      <th>2</th>\n",
       "      <td>1256395556</td>\n",
       "      <td>966904442</td>\n",
       "      <td>2017-06-15</td>\n",
       "      <td>778.4</td>\n",
       "      <td>A</td>\n",
       "    </tr>\n",
       "  </tbody>\n",
       "</table>\n",
       "</div>"
      ],
      "text/plain": [
       "   transaction_id     user_id        date  revenue group\n",
       "0      6776893763  3392612285  2017-06-15   3758.2     B\n",
       "1        40289040  8006342366  2017-06-15   1518.7     B\n",
       "2      1256395556   966904442  2017-06-15    778.4     A"
      ]
     },
     "execution_count": 6,
     "metadata": {},
     "output_type": "execute_result"
    }
   ],
   "source": [
    "transactions.head(3)"
   ]
  },
  {
   "cell_type": "code",
   "execution_count": 7,
   "id": "1442a81d",
   "metadata": {},
   "outputs": [
    {
     "data": {
      "text/html": [
       "<div>\n",
       "<style scoped>\n",
       "    .dataframe tbody tr th:only-of-type {\n",
       "        vertical-align: middle;\n",
       "    }\n",
       "\n",
       "    .dataframe tbody tr th {\n",
       "        vertical-align: top;\n",
       "    }\n",
       "\n",
       "    .dataframe thead th {\n",
       "        text-align: right;\n",
       "    }\n",
       "</style>\n",
       "<table border=\"1\" class=\"dataframe\">\n",
       "  <thead>\n",
       "    <tr style=\"text-align: right;\">\n",
       "      <th></th>\n",
       "      <th>date</th>\n",
       "      <th>group</th>\n",
       "      <th>count_users</th>\n",
       "    </tr>\n",
       "  </thead>\n",
       "  <tbody>\n",
       "    <tr>\n",
       "      <th>0</th>\n",
       "      <td>2017-06-01</td>\n",
       "      <td>A</td>\n",
       "      <td>1016.0</td>\n",
       "    </tr>\n",
       "    <tr>\n",
       "      <th>1</th>\n",
       "      <td>2017-06-02</td>\n",
       "      <td>A</td>\n",
       "      <td>868.0</td>\n",
       "    </tr>\n",
       "    <tr>\n",
       "      <th>2</th>\n",
       "      <td>2017-06-03</td>\n",
       "      <td>A</td>\n",
       "      <td>704.0</td>\n",
       "    </tr>\n",
       "  </tbody>\n",
       "</table>\n",
       "</div>"
      ],
      "text/plain": [
       "         date group  count_users\n",
       "0  2017-06-01     A       1016.0\n",
       "1  2017-06-02     A        868.0\n",
       "2  2017-06-03     A        704.0"
      ]
     },
     "execution_count": 7,
     "metadata": {},
     "output_type": "execute_result"
    }
   ],
   "source": [
    "users.head(3)"
   ]
  },
  {
   "cell_type": "code",
   "execution_count": 15,
   "id": "839cd68a",
   "metadata": {},
   "outputs": [
    {
     "data": {
      "image/png": "[encoded data removed]",
      "text/plain": [
       "<Figure size 640x480 with 1 Axes>"
      ]
     },
     "metadata": {},
     "output_type": "display_data"
    }
   ],
   "source": [
    "cumulative_revenue = transactions.groupby('group').agg({'revenue': 'sum'}).cumsum()\n",
    "cumulative_revenue.plot(kind='bar')\n",
    "plt.title('Кумулятивная выручка по группам')\n",
    "plt.xlabel('Группа')\n",
    "plt.ylabel('Кумулятивная выручка')\n",
    "plt.grid()\n",
    "plt.show()"
   ]
  },
  {
   "cell_type": "markdown",
   "id": "3ae96550-68d6-4329-8b2d-51dfc9e690e2",
   "metadata": {},
   "source": [
    "1. Постройте график кумулятивной выручки по группам. Опишите выводы"
   ]
  },
  {
   "cell_type": "code",
   "execution_count": null,
   "id": "80c310e9-59df-45c6-96fd-22c58f143018",
   "metadata": {},
   "outputs": [],
   "source": []
  },
  {
   "cell_type": "markdown",
   "id": "93c2c35a-e1a3-4768-96b8-ecf550520a61",
   "metadata": {},
   "source": [
    "2. Постройте график кумулятивного среднего чека по группам. Опишите выводы"
   ]
  },
  {
   "cell_type": "code",
   "execution_count": null,
   "id": "a0a83f7e-4b35-4d3f-a9a3-6d71a49da7d6",
   "metadata": {},
   "outputs": [],
   "source": []
  },
  {
   "cell_type": "markdown",
   "id": "4a220c08-1360-4524-b571-e77ad47d611f",
   "metadata": {},
   "source": [
    "3. График относительного изменения кумулятивного среднего чека группы B к группе A. Опишите выводы"
   ]
  },
  {
   "cell_type": "code",
   "execution_count": null,
   "id": "73e5dc9c-4611-4957-92a5-4691e987d0ca",
   "metadata": {},
   "outputs": [],
   "source": []
  },
  {
   "cell_type": "markdown",
   "id": "8ee1b8b2-b9d6-497d-8b4d-506a69aa436a",
   "metadata": {},
   "source": [
    "4. График кумулятивного среднего количества заказов по группам. "
   ]
  },
  {
   "cell_type": "code",
   "execution_count": null,
   "id": "4410d01f-51d5-4be9-ae19-6f373b272cf9",
   "metadata": {},
   "outputs": [],
   "source": []
  },
  {
   "cell_type": "markdown",
   "id": "dd99302b-40d5-4b3e-a4a9-193abdea7183",
   "metadata": {},
   "source": [
    "5. График относительного изменения кумулятивного среднего количества заказов группы B к группе A"
   ]
  },
  {
   "cell_type": "code",
   "execution_count": null,
   "id": "b473b61a-38c5-4588-bbc5-6753fffb9db0",
   "metadata": {},
   "outputs": [],
   "source": []
  },
  {
   "cell_type": "markdown",
   "id": "5905f22e-b851-4260-a00c-1143127673a1",
   "metadata": {},
   "source": [
    "6. Распределение количества заказов по пользователям.  Опишите выводы"
   ]
  },
  {
   "cell_type": "code",
   "execution_count": null,
   "id": "253fd5cd-9822-4b50-9085-89bbc5b9a527",
   "metadata": {},
   "outputs": [],
   "source": []
  },
  {
   "cell_type": "markdown",
   "id": "c0922b6d-834c-4629-b25e-94c216d3c7f4",
   "metadata": {},
   "source": [
    "7. Посчитайте 95-й и 99-й перцентили количества заказов на пользователя. Выберите границу для определения аномальных пользователей."
   ]
  },
  {
   "cell_type": "code",
   "execution_count": null,
   "id": "e2e92303-fa3a-4a9d-a0bf-4276de6b810b",
   "metadata": {},
   "outputs": [],
   "source": []
  },
  {
   "cell_type": "markdown",
   "id": "d79b7ea4-c8b9-4f1d-a181-26af950ea4a6",
   "metadata": {},
   "source": [
    "8. Постройте распределение стоимостей заказов. Сделайте выводы и предположения."
   ]
  },
  {
   "cell_type": "code",
   "execution_count": null,
   "id": "56a3dd0c-dd2c-4b3d-9a5b-06c1d7916e85",
   "metadata": {},
   "outputs": [],
   "source": []
  },
  {
   "cell_type": "markdown",
   "id": "479cfea3-e203-46cb-93e4-2e7aa1b212dc",
   "metadata": {},
   "source": [
    "9. Посчитайте 95-й и 99-й перцентили стоимости заказов. Выберите границу для определения аномальных заказов."
   ]
  },
  {
   "cell_type": "code",
   "execution_count": null,
   "id": "1c507b23-e6cb-44f8-91e8-e1c2eac9342b",
   "metadata": {},
   "outputs": [],
   "source": []
  },
  {
   "cell_type": "markdown",
   "id": "6f4346d1-4a83-4b0d-94e9-40d6ed904bb9",
   "metadata": {},
   "source": [
    "10. Посчитайте статистическую значимость различий в среднем количестве заказов между группами по «сырым» данным. Сделайте выводы и предположения."
   ]
  },
  {
   "cell_type": "markdown",
   "id": "5e9cebfd-7d83-4b84-ae7c-e0a6edf79a33",
   "metadata": {},
   "source": []
  },
  {
   "cell_type": "markdown",
   "id": "de675e2f-a8f1-4425-a7e0-26abb0263197",
   "metadata": {},
   "source": [
    "11. Посчитайте статистическую значимость различий в среднем чеке заказа между группами по «сырым» данным. Сделайте выводы и предположения."
   ]
  },
  {
   "cell_type": "code",
   "execution_count": null,
   "id": "c02762a5-72e1-4bb3-8b2d-34bccf29329b",
   "metadata": {},
   "outputs": [],
   "source": []
  },
  {
   "cell_type": "markdown",
   "id": "27d304b5-61cc-4a88-beb1-dc7cb5e9b61c",
   "metadata": {},
   "source": [
    "12. Посчитайте статистическую значимость различий в среднем количестве заказов между группами по «очищенным» данным. Сделайте выводы и предположения."
   ]
  },
  {
   "cell_type": "code",
   "execution_count": null,
   "id": "bde1255d-812c-4348-9f61-a83423067c0f",
   "metadata": {},
   "outputs": [],
   "source": []
  },
  {
   "cell_type": "markdown",
   "id": "c4e3835d-a773-4135-aee2-46f4f653fd9d",
   "metadata": {},
   "source": [
    "13. Посчитайте статистическую значимость различий в среднем чеке заказа между группами по «очищенным» данным. Сделайте выводы и предположения."
   ]
  },
  {
   "cell_type": "code",
   "execution_count": null,
   "id": "a6934317-e8d1-4c36-9a47-69872cd306e8",
   "metadata": {},
   "outputs": [],
   "source": []
  },
  {
   "cell_type": "markdown",
   "id": "58f23e66-5397-4026-9cb0-1f7c17e28e61",
   "metadata": {},
   "source": [
    "14. Примите решение по результатам теста и объясните его. Варианты решений:   \n",
    "*  Остановить тест, зафиксировать победу одной из групп.  \n",
    "*  Остановить тест, зафиксировать отсутствие различий между группами.  \n",
    "*  Продолжить тест."
   ]
  },
  {
   "cell_type": "code",
   "execution_count": null,
   "id": "3771c216-b583-45f3-aa62-73830d473ec6",
   "metadata": {},
   "outputs": [],
   "source": []
  }
 ],
 "metadata": {
  "kernelspec": {
   "display_name": "base",
   "language": "python",
   "name": "python3"
  },
  "language_info": {
   "codemirror_mode": {
    "name": "ipython",
    "version": 3
   },
   "file_extension": ".py",
   "mimetype": "text/x-python",
   "name": "python",
   "nbconvert_exporter": "python",
   "pygments_lexer": "ipython3",
   "version": "3.12.9"
  }
 },
 "nbformat": 4,
 "nbformat_minor": 5
}
