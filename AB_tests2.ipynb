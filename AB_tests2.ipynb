{
 "cells": [
  {
   "attachments": {},
   "cell_type": "markdown",
   "id": "592cf9e2-a673-4e53-978a-65a96a516b2e",
   "metadata": {},
   "source": [
    "## Стратификация"
   ]
  },
  {
   "cell_type": "code",
   "execution_count": 11,
   "id": "b55f0c96-31f4-42ea-8e30-8b3884c20ca0",
   "metadata": {},
   "outputs": [],
   "source": [
    "import numpy as np\n",
    "import pandas as pd\n",
    "import scipy.stats as st\n",
    "import seaborn as sns\n",
    "\n",
    "\n",
    "from scipy.stats import ttest_ind\n",
    "from scipy.stats import shapiro"
   ]
  },
  {
   "attachments": {},
   "cell_type": "markdown",
   "id": "f46c938b-96a2-4fef-9f2b-3a158e0b8fce",
   "metadata": {},
   "source": [
    "__Теперь, когда у нас есть некоторое представление, чем занимается AB - тестирование, сформулируем более детальный алгоритм__:\n",
    "1. Определить целевую метрику\n",
    "2. Сформулировать статистическую гипотезу и критерий её проверки\n",
    "3. Зафиксировать минимальный ожидаемый эффект и допустимые вероятности ошибок I и II рода\n",
    "4. Оценить необходимый размер групп\n",
    "5. Сформировать экспериментальную и контрольную группы\n",
    "6. Провести эксперимент\n",
    "7. Оценить результаты эксперимента"
   ]
  },
  {
   "cell_type": "code",
   "execution_count": 24,
   "id": "e24541f2-9245-4ef5-b622-edd153f8e85a",
   "metadata": {},
   "outputs": [],
   "source": [
    "samples1 = np.random.exponential(1, size=100)\n",
    "samples2 = np.random.exponential(1.01, size=100)"
   ]
  },
  {
   "cell_type": "code",
   "execution_count": 18,
   "id": "bb5e7f0a-0f2d-4928-9ce1-427917f6246b",
   "metadata": {},
   "outputs": [],
   "source": [
    "means = []\n",
    "for i in range(10000):\n",
    "    np.random.shuffle(samples1)\n",
    "    means.append(samples1[:50].mean())"
   ]
  },
  {
   "cell_type": "code",
   "execution_count": 25,
   "id": "05c5fe6b-e7f5-4df2-b02a-016d028f98ee",
   "metadata": {},
   "outputs": [
    {
     "data": {
      "text/plain": [
       "Ttest_indResult(statistic=-0.1432262398506546, pvalue=0.8862571608912881)"
      ]
     },
     "execution_count": 25,
     "metadata": {},
     "output_type": "execute_result"
    }
   ],
   "source": [
    "ttest_ind(samples1, samples2)"
   ]
  },
  {
   "cell_type": "code",
   "execution_count": 22,
   "id": "b051cbb9-6164-4844-8f1d-97f83792a461",
   "metadata": {},
   "outputs": [],
   "source": [
    "alpha = 0.05                    # вероятность ошибки 1 рода\n",
    "beta = 0.2                      # вероятность ошибки 2 рода\n",
    "mu_control = 2500               # средняя выручка с пользователя в контрольной группе\n",
    "effect = 100                    # размер эффекта\n",
    "mu_pilot = mu_control + effect  # средняя выручка с пользователя в экспериментальной группе\n",
    "std = 800                      # стандартное отклонение"
   ]
  },
  {
   "attachments": {},
   "cell_type": "markdown",
   "id": "68faa65c-9d06-4605-91ec-0e731b393fc0",
   "metadata": {},
   "source": [
    "* Рассчитаем неоходимый размер выборки"
   ]
  },
  {
   "attachments": {},
   "cell_type": "markdown",
   "id": "5836af75-e712-43c4-86ed-37f202797fa2",
   "metadata": {},
   "source": [
    "$n > \\dfrac{\\left[ \\left( F^{-1}(1-\\dfrac{\\alpha}{2}) + F^{-1}(1-\\beta) \\right) \\right]^2 \\cdot \\left(\\sigma_{x}^2 + \\sigma_{y}^2 \\right)}{\\bigtriangleup^2}$"
   ]
  },
  {
   "cell_type": "code",
   "execution_count": 23,
   "id": "b27a9e0e-a068-4824-b499-e810c5369ea6",
   "metadata": {},
   "outputs": [
    {
     "name": "stdout",
     "output_type": "stream",
     "text": [
      "Минимальный объем выборки, чтобы при заданных ошибках 1 и 2 рода наблюдать такое различие = 1005 элементов\n"
     ]
    }
   ],
   "source": [
    "t_alpha = st.norm.ppf(1 - alpha / 2, loc=0, scale=1)\n",
    "t_beta = st.norm.ppf(1 - beta, loc=0, scale=1)\n",
    "var = std ** 2 + std ** 2\n",
    "sample_size = np.ceil((t_alpha + t_beta) ** 2 * var / (effect ** 2))\n",
    "print(f'Минимальный объем выборки, чтобы при заданных ошибках 1 и 2 рода наблюдать такое различие = {int(sample_size)} элементов')"
   ]
  },
  {
   "attachments": {},
   "cell_type": "markdown",
   "id": "c107657b-e8c2-4a2f-8758-4d2349b2b4dd",
   "metadata": {},
   "source": [
    "* Проверим контролирует ли ошибки необходимый объем выборки"
   ]
  },
  {
   "cell_type": "code",
   "execution_count": 26,
   "id": "52b2daea-d2aa-417d-bc55-7deb762d6a4b",
   "metadata": {},
   "outputs": [
    {
     "name": "stdout",
     "output_type": "stream",
     "text": [
      "part_first_type_errors = 0.051\n",
      "part_second_type_errors = 0.199\n"
     ]
    }
   ],
   "source": [
    "first_type_errors = []\n",
    "second_type_errors = []\n",
    " \n",
    "sample_size = 1005\n",
    " \n",
    "for _ in range(10000): # Проведем 10000 запусков\n",
    "\n",
    "    control_one = np.random.normal(mu_control, std, sample_size) # Группа1\n",
    "    control_two = np.random.normal(mu_control, std, sample_size) # Группа2, в случае, если разницы в группах нет\n",
    "    pilot = np.random.normal(mu_pilot, std, sample_size) # Группа2, в случае, если разница в группах есть\n",
    "    \n",
    "    _, pvalue_aa = st.ttest_ind(control_one, control_two) # ttest для групп, в которых разницы нет\n",
    "    first_type_errors.append(pvalue_aa < alpha) # Проверим, произошла ли ошибка первого рода\n",
    "    \n",
    "    _, pvalue_ab = st.ttest_ind(control_one, pilot) # ttest для групп, в которых разница есть\n",
    "    second_type_errors.append(pvalue_ab >= alpha) # Проверим, произошла ли ошибка второго рода\n",
    "\n",
    "part_first_type_errors = np.mean(first_type_errors) # Вычисление ошибки первого рода\n",
    "part_second_type_errors = np.mean(second_type_errors) # Вычисление ошибки второго рода\n",
    "\n",
    "print(f'part_first_type_errors = {part_first_type_errors:0.3f}')\n",
    "print(f'part_second_type_errors = {part_second_type_errors:0.3f}')"
   ]
  },
  {
   "attachments": {},
   "cell_type": "markdown",
   "id": "c534075a-680b-4ddc-81ff-6efc8723b3dc",
   "metadata": {},
   "source": [
    "* Отлично, ошибки на данном кол-ве элементов контролируется!"
   ]
  },
  {
   "attachments": {},
   "cell_type": "markdown",
   "id": "649b63bb-dbe3-43c8-8200-c766fe642dd2",
   "metadata": {},
   "source": [
    "* Для примера, что же произойдет, если выборка будет меньше, например 100"
   ]
  },
  {
   "cell_type": "code",
   "execution_count": 32,
   "id": "8a60eb92-6094-4b3c-ad56-94ef75122765",
   "metadata": {},
   "outputs": [
    {
     "name": "stdout",
     "output_type": "stream",
     "text": [
      "part_first_type_errors = 0.050\n",
      "part_second_type_errors = 0.864\n"
     ]
    }
   ],
   "source": [
    "first_type_errors = []\n",
    "second_type_errors = []\n",
    " \n",
    "sample_size = 100\n",
    " \n",
    "for _ in range(10000): # Проведем 10000 запусков\n",
    "\n",
    "    control_one = np.random.normal(mu_control, std, sample_size) # Группа1\n",
    "    control_two = np.random.normal(mu_control, std, sample_size) # Группа2, в случае, если разницы в группах нет\n",
    "    pilot = np.random.normal(mu_pilot, std, sample_size) # Группа2, в случае, если разница в группах есть\n",
    "    \n",
    "    _, pvalue_aa = st.ttest_ind(control_one, control_two) # ttest для групп, в которых разницы нет\n",
    "    first_type_errors.append(pvalue_aa < alpha) # Проверим, произошла ли ошибка первого рода\n",
    "    \n",
    "    _, pvalue_ab = st.ttest_ind(control_one, pilot) # ttest для групп, в которых разница есть\n",
    "    second_type_errors.append(pvalue_ab >= alpha) # Проверим, произошла ли ошибка второго рода\n",
    "\n",
    "part_first_type_errors = np.mean(first_type_errors) # Вычисление ошибки первого рода\n",
    "part_second_type_errors = np.mean(second_type_errors) # Вычисление ошибки второго рода\n",
    "\n",
    "print(f'part_first_type_errors = {part_first_type_errors:0.3f}')\n",
    "print(f'part_second_type_errors = {part_second_type_errors:0.3f}')"
   ]
  },
  {
   "attachments": {},
   "cell_type": "markdown",
   "id": "03725407-41fd-4d34-8fd2-e67dbb3011c3",
   "metadata": {},
   "source": [
    "* Очень увеличивается ошибка второго рода, упала мощность, критерий не способен за 100 элементов выборки, фиксировать такие различия"
   ]
  },
  {
   "attachments": {},
   "cell_type": "markdown",
   "id": "a9f0293f-2f44-49bd-b5e6-22040ccece89",
   "metadata": {},
   "source": [
    "__Возвращаясь к нашей задаче, 1005 элементов даст нам необходимую ошибку 2 рода, но можем ли мы как-то ее еще уменьшить для обнаружения такого эффекта, который мы хотим?__  \n",
    "\n",
    "___Если у нас есть еще какие-то данные о наших пользователях, которые как-то коррелируют с целевой метрикой, мы можем попробовать применить их для уменьшение ошибки 2 рода!___  \n",
    "\n",
    "* Немного определений: "
   ]
  },
  {
   "attachments": {},
   "cell_type": "markdown",
   "id": "bdf7ce57-3eb4-431f-b96c-58e066ac12c9",
   "metadata": {},
   "source": [
    "__Ковариата__ - метрика, которая коррелирует с целевой метрикой, может быть измерена до эксперимента (строго говоря, нет) и не зависит от других экспериментов. В нашем случае факт регистрации в программе лояльности до эксперимента будет ковариатой."
   ]
  },
  {
   "attachments": {},
   "cell_type": "markdown",
   "id": "a7ced06b-3a66-4859-a752-be2606459a39",
   "metadata": {},
   "source": [
    "С помощью ковариат можно разделить популяцию на непересекающиеся подмножества, которые будут обладать уникальным набором значений ковариат. Такие подмножества будем называть __стратами__."
   ]
  },
  {
   "attachments": {},
   "cell_type": "markdown",
   "id": "d2ec325d-874f-41b4-8065-179f8d64728f",
   "metadata": {},
   "source": [
    "В нашем примере будет две страты:\n",
    "\n",
    "* первая - кто не зарегистрирован в программе лояльности;\n",
    "\n",
    "* вторая - кто зарегистрирован в программе лояльности.\n",
    "\n",
    "Посмотрим на исторические данные пользователей этих страт по отдельности. Допустим, мы выяснили, следующую информацию:\n",
    "\n",
    "доли страт в популяции равны и составляют 50%;\n",
    "\n",
    "средняя выручка за неделю в первой страте равна 2000 рублей, во второй - 3000 рублей;\n",
    "\n",
    "стандартные отклонения выручки за неделю равны 625 рублей в обеих стратах. При таких значениях отклонений объединение данных обеих страт будет иметь отклонение около 800 рублей, как было изначально."
   ]
  },
  {
   "attachments": {},
   "cell_type": "markdown",
   "id": "5fd8a7f7-24a2-4937-a05e-1b4df4598b27",
   "metadata": {},
   "source": [
    "__Займемся сравнением результатов со стратифицированием и без стратифицирования__ "
   ]
  },
  {
   "cell_type": "code",
   "execution_count": 48,
   "id": "36c97ae6-6097-472e-9b54-642ac92a8a07",
   "metadata": {},
   "outputs": [
    {
     "data": {
      "text/plain": [
       "<AxesSubplot:ylabel='Count'>"
      ]
     },
     "execution_count": 48,
     "metadata": {},
     "output_type": "execute_result"
    },
    {
     "data": {
      "image/png": "[encoded data removed]",
      "text/plain": [
       "<Figure size 432x288 with 1 Axes>"
      ]
     },
     "metadata": {
      "needs_background": "light"
     },
     "output_type": "display_data"
    }
   ],
   "source": [
    "corr_coefs = []\n",
    "for i in range(1000):\n",
    "    s1 = np.random.normal(size=10000)\n",
    "    s2 = np.random.normal(size=10000)\n",
    "\n",
    "    corr_coefs.append(np.corrcoef(s1, s2)[0, 1])\n",
    "sns.histplot(corr_coefs)"
   ]
  },
  {
   "cell_type": "code",
   "execution_count": 42,
   "id": "71815c62-b812-479a-a0f3-5d428fa5365f",
   "metadata": {},
   "outputs": [],
   "source": [
    "import pandas as pd\n",
    "\n",
    "def get_stratified_data(strat_to_param, effect=0):\n",
    "    \"\"\"Генерирует данные стратифицированным семплированием.\n",
    "\n",
    "    Возвращает датафрейм со значениями метрики и страт пользователей\n",
    "    в контрольной и экспериментальной группах.\n",
    "\n",
    "    strat_to_param - словарь с параметрами страт\n",
    "    effect - размер эффекта\n",
    "    \"\"\"\n",
    "    control, pilot = [], []\n",
    "    for strat, (n, mu, std) in strat_to_param.items(): \n",
    "        control += [\n",
    "            (x, strat) for x in np.random.normal(mu, std, n)\n",
    "        ]\n",
    "        pilot += [\n",
    "            (x, strat) for x in np.random.normal(mu + effect, std, n)\n",
    "        ]\n",
    "    columns = ['value', 'strat']\n",
    "    control_df = pd.DataFrame(control, columns=columns)\n",
    "    pilot_df = pd.DataFrame(pilot, columns=columns)\n",
    "    return control_df, pilot_df\n",
    " \n",
    " \n",
    "def get_random_data(strats, sample_size, strat_to_param, effect=0):\n",
    "    \"\"\"Генерирует данные случайным семплированием.\n",
    "\n",
    "    Возвращает датафрейм со значениями метрики и страт пользователей\n",
    "    в контрольной и экспериментальной группах.\n",
    "\n",
    "    strats - cписок страт в популяции\n",
    "    sample_size - размеры групп\n",
    "    strat_to_param - словарь с параметрами страт\n",
    "    effect - размер эффекта\n",
    "    \"\"\"\n",
    "    control_strats, pilot_strats = np.random.choice(\n",
    "        strats, (2, sample_size), False\n",
    "    )\n",
    "    control, pilot = [], []\n",
    "    for strat, (n, mu, std) in strat_to_param.items():\n",
    "        n_control_ = np.sum(control_strats == strat)\n",
    "        control += [\n",
    "            (x, strat) for x in np.random.normal(mu, std, n_control_)\n",
    "        ]\n",
    "        n_pilot_ = np.sum(pilot_strats == strat)\n",
    "        pilot += [\n",
    "            (x, strat) for x in np.random.normal(mu + effect, std, n_pilot_)\n",
    "        ]\n",
    "    columns = ['value', 'strat']\n",
    "    control_df = pd.DataFrame(control, columns=columns)\n",
    "    pilot_df = pd.DataFrame(pilot, columns=columns)\n",
    "    return control_df, pilot_df\n",
    "\n",
    "\n",
    "def ttest(a: pd.DataFrame, b: pd.DataFrame) -> float:\n",
    "    \"\"\"Возвращает pvalue теста Стьюдента.\n",
    "  \n",
    "    a, b - данные пользователей контрольной и экспериментальной групп\n",
    "    \"\"\"\n",
    "    _, pvalue = st.ttest_ind(a['value'].values, b['value'].values)\n",
    "    return pvalue"
   ]
  },
  {
   "attachments": {},
   "cell_type": "markdown",
   "id": "a3aa3a32-6d5b-4002-9bc8-fb47d5daf0b3",
   "metadata": {},
   "source": [
    "* Сравним вероятность ошибок первого рода, для этого нам необходим А/А - тест"
   ]
  },
  {
   "attachments": {},
   "cell_type": "markdown",
   "id": "d0a4a5d3-d656-47f7-8829-1144c007e909",
   "metadata": {},
   "source": [
    "__Сравнение AA-тестов__"
   ]
  },
  {
   "cell_type": "code",
   "execution_count": 44,
   "id": "46a04320-30e9-47c3-87c1-3afe76c79f9a",
   "metadata": {},
   "outputs": [
    {
     "name": "stdout",
     "output_type": "stream",
     "text": [
      "part_random_first_type_errors = 0.050\n",
      "part_stratified_first_type_errors = 0.011\n"
     ]
    }
   ],
   "source": [
    "alpha = 0.05                        # уровень значимости\n",
    "N = 10000                           # количество пользователей в популяции\n",
    "w_one, w_two = 0.5, 0.5             # доли страт в популяции\n",
    "N_one = int(N * w_one)              # количество пользователей первой страты\n",
    "N_two = int(N * w_two)              # количество пользователей второй страты\n",
    "mu_one, mu_two = 2000, 3000         # средние выручки в стратах\n",
    "std_one, std_two = 625, 625         # стандартное отклонение в стратах\n",
    "\n",
    "# список страт в популяции\n",
    "strats = [1 for _ in range(N_one)] + [2 for _ in range(N_two)] # Задаем номер страты\n",
    "\n",
    "# размер групп эксперимента\n",
    "sample_size = 1006  # В каждой группе будет по 1006 участников\n",
    "sample_size_one = int(sample_size * w_one) # количество пользователей первой страты в каждой из контрольной и экспериментальной групп\n",
    "sample_size_two = int(sample_size * w_two) # количество пользователей второй страты в каждой из контрольной и экспериментальной групп\n",
    "\n",
    "# Словарь, который ключем которой является страта, а значением словаря являются параметры распределения\n",
    "strat_to_param = {\n",
    "    1: (sample_size_one, mu_one, std_one,),\n",
    "    2: (sample_size_two, mu_two, std_two,)\n",
    "}\n",
    "\n",
    "random_first_type_errors = [] # Здесь будет мониторинг ошибки первого рода без стратифицирования. \n",
    "stratified_first_type_errors = [] # Здесь будет мониторинг ошибки первого рода со стратифицирования.\n",
    "\n",
    "random_deltas = []\n",
    "stratified_deltas = []\n",
    "\n",
    "for _ in range(10000): # Генерация 10000 выборок, чтобы эмпирически вычислить нашу ошибку первого рода\n",
    "    \n",
    "    # control_random - контрольная группа, разбиение идет случайным, не обращая внимания на страты\n",
    "    # pilot_random - экспериментальная группа, разбиение идет случайным, не обращая внимания на страты\n",
    "    control_random, pilot_random = get_random_data( \n",
    "        strats, sample_size, strat_to_param\n",
    "    )\n",
    "    \n",
    "    # control_stratified_random - контрольная группа, в ней половина элементов первой страты, половина второй\n",
    "    # pilot_stratified_random - экспериментальная группа, в ней половина элементов первой страты, половина второй\n",
    "    control_stratified, pilot_stratified = get_stratified_data(\n",
    "        strat_to_param\n",
    "    )\n",
    "    random_deltas.append(\n",
    "        pilot_random['value'].mean() - control_random['value'].mean()\n",
    "    )\n",
    "    stratified_deltas.append(\n",
    "        pilot_stratified['value'].mean() - control_stratified['value'].mean()\n",
    "    )\n",
    "\n",
    "    pvalue_random = ttest(control_random, pilot_random)\n",
    "    random_first_type_errors.append(pvalue_random < alpha)\n",
    "    pvalue_stratified = ttest(control_stratified, pilot_stratified)\n",
    "    stratified_first_type_errors.append(pvalue_stratified < alpha)\n",
    " \n",
    "part_random_first_type_errors = np.mean(random_first_type_errors)\n",
    "part_stratified_first_type_errors = np.mean(stratified_first_type_errors)\n",
    "print(f'part_random_first_type_errors = {part_random_first_type_errors:0.3f}')\n",
    "print(f'part_stratified_first_type_errors = {part_stratified_first_type_errors:0.3f}')"
   ]
  },
  {
   "cell_type": "code",
   "execution_count": 45,
   "id": "aa28f501-589e-464d-ac34-4aa94ce23654",
   "metadata": {},
   "outputs": [
    {
     "data": {
      "image/png": "[encoded data removed]",
      "text/plain": [
       "<Figure size 473.875x360 with 1 Axes>"
      ]
     },
     "metadata": {
      "needs_background": "light"
     },
     "output_type": "display_data"
    }
   ],
   "source": [
    "sns.displot(\n",
    "    {'random_deltas': random_deltas, 'stratifed_deltas': stratified_deltas},\n",
    "    kind='kde'\n",
    ");"
   ]
  },
  {
   "attachments": {},
   "cell_type": "markdown",
   "id": "0abad5ba-6673-42e1-8ca7-c0851d1a1d9d",
   "metadata": {},
   "source": [
    "Глядя на графики, почему уменьшилась ошибка 1 рода?"
   ]
  },
  {
   "attachments": {},
   "cell_type": "markdown",
   "id": "f0e2a3ef-002e-42fd-ac95-cc687174a398",
   "metadata": {},
   "source": [
    "__При стратифицированном семплированиии ошибка первого рода упала примерно в 4 раза__"
   ]
  },
  {
   "attachments": {},
   "cell_type": "markdown",
   "id": "7da3f4af-2cf6-415f-ade5-41140d4a38a4",
   "metadata": {},
   "source": [
    "__Сравнение AB-тестов__"
   ]
  },
  {
   "cell_type": "code",
   "execution_count": 49,
   "id": "313e5caa-51e8-4bf8-ae81-cd3e13bb813a",
   "metadata": {},
   "outputs": [
    {
     "name": "stdout",
     "output_type": "stream",
     "text": [
      "part_random_second_type_errors = 0.201\n",
      "part_stratified_second_type_errors = 0.138\n"
     ]
    }
   ],
   "source": [
    "effect = 100 # Размер эффекта, который мы хотим наблюдать\n",
    "random_second_type_errors = []\n",
    "stratified_second_type_errors = []\n",
    "\n",
    "for _ in range(10000): # Генерация 10000 выборок, чтобы эмпирически вычислить нашу ошибку второго рода\n",
    "    \n",
    "    # control_random - контрольная группа, разбиение идет случайным, не обращая внимания на страты\n",
    "    # pilot_random - экспериментальная группа, разбиение идет случайным, не обращая внимания на страты    \n",
    "    control_random, pilot_random = get_random_data(\n",
    "        strats, sample_size, strat_to_param, effect\n",
    "    )\n",
    "    \n",
    "    # control_stratified_random - контрольная группа, в ней половина элементов первой страты, половина второй\n",
    "    # pilot_stratified_random - экспериментальная группа, в ней половина элементов первой страты, половина второй\n",
    "    control_stratified, pilot_stratified = get_stratified_data(\n",
    "        strat_to_param, effect\n",
    "    )\n",
    "    pvalue_random = ttest(control_random, pilot_random)\n",
    "    random_second_type_errors.append(pvalue_random >= alpha)\n",
    "    pvalue_stratified = ttest(control_stratified, pilot_stratified)\n",
    "    stratified_second_type_errors.append(pvalue_stratified >= alpha)\n",
    " \n",
    "part_random_second_type_errors = np.mean(random_second_type_errors)\n",
    "part_stratified_second_type_errors = np.mean(stratified_second_type_errors)\n",
    "print(f'part_random_second_type_errors = {part_random_second_type_errors:0.3f}')\n",
    "print(f'part_stratified_second_type_errors = {part_stratified_second_type_errors:0.3f}')"
   ]
  },
  {
   "attachments": {},
   "cell_type": "markdown",
   "id": "11cf646b-2d77-4ebb-bfdb-20f5c8681c6a",
   "metadata": {},
   "source": [
    "__Ошибка второго рода так же упала, а значит выросла мощность критерия!__"
   ]
  },
  {
   "attachments": {},
   "cell_type": "markdown",
   "id": "6068f2c2-27b3-49f7-ba09-377cdf9651fd",
   "metadata": {},
   "source": [
    "* Когда происходит дизайн AB-теста, мы фиксируем уровень значимости - это наша готовность ложно найти различия в группах, там где их нет\n",
    "* У нас изначально наш уровень значимости $\\alpha = 0.5$\n",
    "* При стратифицирование наша $\\alpha$ упала, а значит поднялась $\\beta$ и упала мощность(1 - $\\beta$)\n",
    "* Чтобы создать наиболее мощный критерий, мы должны вернуть ошибку $\\alpha$ на исходный уровень\n",
    "*  Так происходит из-за того, что при стратифицированном семплировании мы не только делаем распределение средних более узким, но и снижаем дисперсию, зафиксировав количество страт в каждой группе. \n",
    "* Тест Стьюдента не знает о том, что мы семплируем данные не случайно, поэтому при подсчёте статистики используется завышенная оценка дисперсии. Вернуть тест на нужный уровень значимости нам поможет стратифицированное среднее.\n"
   ]
  },
  {
   "attachments": {},
   "cell_type": "markdown",
   "id": "a58ecc6e-aa18-442e-b0be-a2d196817f69",
   "metadata": {},
   "source": [
    "* Ранее мы среднее в группах вычисляли по формуле:  \n",
    "$\\overline{Y} = \\dfrac{1}{n}\\sum_{k=1}^{K}\\sum_{j=1}^{n_k}Y_{kj}$, $k$ - номер страты, $j$ - номер элемента в страте"
   ]
  },
  {
   "attachments": {},
   "cell_type": "markdown",
   "id": "2549ad5e-1600-4ce9-9bea-af57b3f08ae4",
   "metadata": {},
   "source": [
    "* Теперь будем вычситывать взвешенное среднее(стратифицированное среднее)  \n",
    "$\\overline{Y_{strat}} = \\sum_{k=1}^{K}\\omega_{k} * \\overline{Y_{k}}$, где $\\overline{Y_k} = \\dfrac{1}{n_{k}}\\sum_{j=1}^{n_{k}}Y_{kj}$, $\\omega_{k}$ - доля элементов из k-ой страты"
   ]
  },
  {
   "cell_type": "code",
   "execution_count": 54,
   "id": "bea98bff-0445-4fe7-96cf-c993100288ce",
   "metadata": {},
   "outputs": [
    {
     "name": "stdout",
     "output_type": "stream",
     "text": [
      "part_first_type_errors = 0.049\n",
      "part_second_type_errors = 0.047\n"
     ]
    }
   ],
   "source": [
    "def calc_strat_mean(df: pd.DataFrame, weights: pd.Series) -> float:\n",
    "    \"\"\"Считает стратифицированное среднее.\n",
    "\n",
    "    df - датафрейм с целевой метрикой и данными для стратификации\n",
    "    weights - маппинг {название страты: вес страты в популяции}\n",
    "    \"\"\"\n",
    "    strat_mean = df.groupby('strat')['value'].mean()\n",
    "    return (strat_mean * weights).sum()\n",
    "\n",
    "\n",
    "def calc_strat_var(df: pd.DataFrame, weights: pd.Series) -> float:\n",
    "    \"\"\"Считает стратифицированную дисперсию.\n",
    "    df - датафрейм с целевой метрикой и данными для стратификации\n",
    "    weights - маппинг {название страты: вес страты в популяции}\n",
    "    \"\"\"\n",
    "    strat_var = df.groupby('strat')['value'].var()\n",
    "    return (strat_var * weights).sum()\n",
    "\n",
    "\n",
    "def ttest_strat(a: pd.DataFrame, b: pd.DataFrame, weights: pd.Series) -> float:\n",
    "    \"\"\"Возвращает pvalue теста Стьюдента для стратифицированного среднего.\n",
    "\n",
    "    a, b - данные пользователей контрольной и экспериментальной групп\n",
    "    weights - маппинг {название страты: вес страты в популяции}\n",
    "    \"\"\"\n",
    "    a_strat_mean = calc_strat_mean(a, weights)\n",
    "    b_strat_mean = calc_strat_mean(b, weights)\n",
    "    a_strat_var = calc_strat_var(a, weights)\n",
    "    b_strat_var = calc_strat_var(b, weights)\n",
    "    delta = b_strat_mean - a_strat_mean\n",
    "    std = (a_strat_var / len(a) + b_strat_var / len(b)) ** 0.5\n",
    "    t = delta / std\n",
    "    pvalue = 2 * (1 -  st.norm.cdf(np.abs(t)))\n",
    "    return pvalue\n",
    "\n",
    "\n",
    "weights = pd.Series({1: w_one, 2: w_two})\n",
    "\n",
    "first_type_errors = []\n",
    "second_type_errors = []\n",
    "\n",
    "for _ in range(10000):\n",
    "    control_aa, pilot_aa = get_stratified_data(\n",
    "        strat_to_param\n",
    "    )\n",
    "    control_ab, pilot_ab = get_stratified_data(\n",
    "        strat_to_param, effect\n",
    "    )\n",
    "\n",
    "    pvalue_aa = ttest_strat(control_aa, pilot_aa, weights)\n",
    "    first_type_errors.append(pvalue_aa < alpha)\n",
    "    pvalue_ab = ttest_strat(control_ab, pilot_ab, weights)\n",
    "    second_type_errors.append(pvalue_ab >= alpha)\n",
    "\n",
    "\n",
    "part_first_type_errors = np.mean(first_type_errors)\n",
    "part_second_type_errors = np.mean(second_type_errors)\n",
    "print(f'part_first_type_errors = {part_first_type_errors:0.3f}')\n",
    "print(f'part_second_type_errors = {part_second_type_errors:0.3f}')"
   ]
  },
  {
   "attachments": {},
   "cell_type": "markdown",
   "id": "aae801cc-280a-44e8-a4c4-c6583edc55cf",
   "metadata": {},
   "source": [
    "##### было\n",
    "part_stratified_first_type_errors = 0.011  \n",
    "part_stratified_second_type_errors = 0.138"
   ]
  },
  {
   "attachments": {},
   "cell_type": "markdown",
   "id": "01695962-9d5b-4129-be8e-6c8b0f45eaf9",
   "metadata": {},
   "source": [
    "##### стало\n",
    "part_first_type_errors = 0.049  \n",
    "part_second_type_errors = 0.047"
   ]
  },
  {
   "cell_type": "code",
   "execution_count": null,
   "id": "80b57a7a-75df-4dcb-8f49-d47f81c519d8",
   "metadata": {},
   "outputs": [],
   "source": []
  }
 ],
 "metadata": {
  "kernelspec": {
   "display_name": "Python 3 (ipykernel)",
   "language": "python",
   "name": "python3"
  },
  "language_info": {
   "codemirror_mode": {
    "name": "ipython",
    "version": 3
   },
   "file_extension": ".py",
   "mimetype": "text/x-python",
   "name": "python",
   "nbconvert_exporter": "python",
   "pygments_lexer": "ipython3",
   "version": "3.9.12"
  }
 },
 "nbformat": 4,
 "nbformat_minor": 5
}
