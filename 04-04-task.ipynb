{
 "cells": [
  {
   "attachments": {},
   "cell_type": "markdown",
   "id": "f7d263c5-ffe0-4de3-9d18-848c4d38a91c",
   "metadata": {},
   "source": [
    "# Неделя 1. Четверг\n",
    "## Проверка статистических гипотез"
   ]
  },
  {
   "cell_type": "code",
   "execution_count": 2,
   "id": "737b1dd5-d353-4e15-80e2-b3dcc978de94",
   "metadata": {},
   "outputs": [],
   "source": [
    "import numpy as np\n",
    "from scipy import stats as st\n",
    "import matplotlib.pyplot as plt\n",
    "import seaborn as sns"
   ]
  },
  {
   "cell_type": "markdown",
   "id": "bee8fb28-1377-4ce2-9558-5bc318212a6b",
   "metadata": {},
   "source": [
    "### Задание № 1. Гипотеза о доле\n",
    "\n",
    "Реализовать функцию, позволяющую проверять гипотезу о доле. На вход функция принимает два значения для долей, объем выборки и уровень значимости. "
   ]
  },
  {
   "cell_type": "code",
   "execution_count": 3,
   "id": "8acdab5a",
   "metadata": {},
   "outputs": [],
   "source": [
    "def proportion_test(p_hat, p_0, n, alpha):\n",
    "    \"\"\"\n",
    "    Функция для проверки гипотезы о доле.\n",
    "\n",
    "    Parameters:\n",
    "    -----------\n",
    "    p_hat : float\n",
    "        Наблюдаемая доля в выборке.\n",
    "    p_0 : float\n",
    "        Гипотетическая доля (нулевая гипотеза).\n",
    "    n : int\n",
    "        Объем выборки.\n",
    "    alpha : float\n",
    "        Уровень значимости.\n",
    "\n",
    "    Returns:\n",
    "    --------\n",
    "    z_stat : float\n",
    "        Значение Z-статистики.\n",
    "    p_value : float\n",
    "        p-value для проверки гипотезы.\n",
    "    \"\"\"\n",
    "\n",
    "    # Вычисление Z-статистики\n",
    "    se = np.sqrt(p_0 * (1 - p_0) / n)\n",
    "    z_stat = (p_hat - p_0) / se\n",
    "\n",
    "    # Вычисление p-value (двусторонний тест)\n",
    "    p_value = 2 * (1 - st.norm.cdf(abs(z_stat)))\n",
    "\n",
    "    # Вывод результата\n",
    "    print(f\"Z-статистика: {z_stat:.4f}\")\n",
    "    print(f\"p-value: {p_value:.4f}\")\n",
    "\n",
    "    if p_value < alpha:\n",
    "        print(f\"На уровне значимости {alpha} отвергаем нулевую гипотезу.\")\n",
    "    else:\n",
    "        print(f\"На уровне значимости {alpha} не отвергаем нулевую гипотезу.\")\n",
    "\n",
    "    return z_stat, p_value"
   ]
  },
  {
   "cell_type": "code",
   "execution_count": 4,
   "id": "5f0341c3",
   "metadata": {},
   "outputs": [
    {
     "name": "stdout",
     "output_type": "stream",
     "text": [
      "Проверка 1: Честная ли монетка (57 орлов из 100 подбрасываний)\n",
      "\n",
      "Z-статистика: 1.4000\n",
      "p-value: 0.1615\n",
      "На уровне значимости 0.05 не отвергаем нулевую гипотезу.\n"
     ]
    }
   ],
   "source": [
    "print(\"Проверка 1: Честная ли монетка (57 орлов из 100 подбрасываний)\\n\")\n",
    "p_hat = 0.57  # Наблюдаемая доля\n",
    "p0 = 0.5       # Гипотетическая доля (для честной монеты)\n",
    "n = 100         # Количество подбрасываний\n",
    "alpha = 0.05    # Уровень значимости\n",
    "z_stat, p_value = proportion_test(p_hat, p0, n, alpha)"
   ]
  },
  {
   "cell_type": "code",
   "execution_count": 5,
   "id": "c17c4b43",
   "metadata": {},
   "outputs": [
    {
     "name": "stdout",
     "output_type": "stream",
     "text": [
      "Задача 2: Эффективность рекламы\n",
      "\n",
      "Z-статистика: 3.5355\n",
      "p-value: 0.0004\n",
      "На уровне значимости 0.05 отвергаем нулевую гипотезу.\n"
     ]
    }
   ],
   "source": [
    "print(\"Задача 2: Эффективность рекламы\\n\")\n",
    "z2, p2 = proportion_test(p_hat=0.3, p_0=0.2, n=200, alpha=0.05)"
   ]
  },
  {
   "cell_type": "markdown",
   "id": "7a6035f4",
   "metadata": {},
   "source": [
    "- Проверьте:  \n",
    "    - можно ли считать монетку честной, если после 100 подбрасываний, выпало 57 орлов  \n",
    "    - Стала ли статистически значимо эффективнее реклама, если ранее конверсия была 0.2, а сейчас на выборке из 200 элементов конверсия вышла 0.3"
   ]
  },
  {
   "cell_type": "markdown",
   "id": "8ea66233-d479-4a83-b52d-4a2e14e32f83",
   "metadata": {},
   "source": [
    "### Задание № 2. Гипотеза о среднем\n",
    "Реализовать функцию, позволяющую вычислять двухвыборочный t-тест. \n",
    "Функция должна принимать следующие аргументы: \n",
    "* `sample_1`, `sample_2` - два списка выборочными данными\n",
    "* `alternative` принимает одно из трех значений: `twosided`, `left`, `right`. Аргумент позволяет контролировать вид проверяемой альтернативы. \n",
    "* `alpha` - уровень значимости\n",
    "* `independent` - `True` или `False`\n",
    "\n",
    "Функция должна распечатывать результат проверки аналогично примеру выше, а также возвращать значение статистики и `p_value`. "
   ]
  },
  {
   "cell_type": "code",
   "execution_count": 6,
   "id": "d7a065f5-f0f1-4598-b7f6-9cfd7eb16da1",
   "metadata": {},
   "outputs": [],
   "source": [
    "def ttest(sample_1, sample_2, alternative='twosided', alpha=.05, independent=True):\n",
    "    pass\n",
    "    return t_stat, p_value"
   ]
  },
  {
   "cell_type": "markdown",
   "id": "ae65f0da-0846-4cd1-968f-2230b130c923",
   "metadata": {},
   "source": [
    "☑️ Проверьте свой результат с помощью scipy-функций `ttest_ind` (для случай независимых выборок) и `ttest_rel`(для случая зависимых выборок)."
   ]
  },
  {
   "cell_type": "markdown",
   "id": "009f659c-a581-4860-97bf-3c87424afd42",
   "metadata": {},
   "source": [
    "<img src=\"https://icons.iconarchive.com/icons/icons8/windows-8/256/Programming-Github-icon.png\" width=32 /> Пора сохранить изменения для __github__. \n",
    "\n",
    "1. Перейди в командной строке в папку, в которой расположен этот нотбук. \n",
    "2. Выполни команду `git add 01-05-task.ipynb`\n",
    "3. Выполни команду `git commit -m \"hypothesis tasks in progress\"`\n",
    "4. Выполни команду `git push`"
   ]
  },
  {
   "cell_type": "markdown",
   "id": "ef4aea2b-ce29-4be7-881b-4685e9fa53f9",
   "metadata": {},
   "source": [
    "### Задание № 3. Доверительный интервал\n",
    "\n",
    "Реализовать функцию, позволяющую строить доверительный интервал для среднего. На вход функции поступает выборка (n > 20), уровень значимости. "
   ]
  },
  {
   "cell_type": "code",
   "execution_count": 7,
   "id": "831f59cf",
   "metadata": {},
   "outputs": [
    {
     "ename": "NameError",
     "evalue": "name 'stats' is not defined",
     "output_type": "error",
     "traceback": [
      "\u001b[31m---------------------------------------------------------------------------\u001b[39m",
      "\u001b[31mNameError\u001b[39m                                 Traceback (most recent call last)",
      "\u001b[36mCell\u001b[39m\u001b[36m \u001b[39m\u001b[32mIn[7]\u001b[39m\u001b[32m, line 17\u001b[39m\n\u001b[32m     14\u001b[39m sample = np.array([\u001b[32m6\u001b[39m, \u001b[32m1\u001b[39m, \u001b[32m2\u001b[39m, \u001b[32m4\u001b[39m, \u001b[32m6\u001b[39m, \u001b[32m5\u001b[39m, \u001b[32m5\u001b[39m, \u001b[32m6\u001b[39m, \u001b[32m3\u001b[39m, \u001b[32m3\u001b[39m, \u001b[32m6\u001b[39m, \u001b[32m3\u001b[39m, \u001b[32m4\u001b[39m, \u001b[32m2\u001b[39m, \u001b[32m2\u001b[39m, \u001b[32m2\u001b[39m, \u001b[32m4\u001b[39m, \u001b[32m4\u001b[39m, \u001b[32m3\u001b[39m, \u001b[32m6\u001b[39m])\n\u001b[32m     15\u001b[39m alpha = \u001b[32m0.05\u001b[39m\n\u001b[32m---> \u001b[39m\u001b[32m17\u001b[39m \u001b[38;5;28mprint\u001b[39m(\u001b[43mconf_ints\u001b[49m\u001b[43m(\u001b[49m\u001b[43msample\u001b[49m\u001b[43m,\u001b[49m\u001b[43m \u001b[49m\u001b[43malpha\u001b[49m\u001b[43m)\u001b[49m)\n",
      "\u001b[36mCell\u001b[39m\u001b[36m \u001b[39m\u001b[32mIn[7]\u001b[39m\u001b[32m, line 8\u001b[39m, in \u001b[36mconf_ints\u001b[39m\u001b[34m(sample, alpha)\u001b[39m\n\u001b[32m      5\u001b[39m df_std = np.std(df, ddof=\u001b[32m1\u001b[39m)\n\u001b[32m      6\u001b[39m std_error = df_std / np.sqrt(\u001b[38;5;28mlen\u001b[39m(df))\n\u001b[32m----> \u001b[39m\u001b[32m8\u001b[39m z_critical = \u001b[43mstats\u001b[49m.norm.ppf(\u001b[32m1\u001b[39m - alpha / \u001b[32m2\u001b[39m)\n\u001b[32m     10\u001b[39m lower_bound = df_mean - z_critical * std_error\n\u001b[32m     11\u001b[39m upper_bound = df_mean + z_critical * std_error\n",
      "\u001b[31mNameError\u001b[39m: name 'stats' is not defined"
     ]
    }
   ],
   "source": [
    "def conf_ints(sample: list, alpha: float):\n",
    "    df = np.asarray(sample)\n",
    "\n",
    "    df_mean = np.mean(df)\n",
    "    df_std = np.std(df, ddof=1)\n",
    "    std_error = df_std / np.sqrt(len(df))\n",
    "\n",
    "    z_critical = stats.norm.ppf(1 - alpha / 2)\n",
    "\n",
    "    lower_bound = df_mean - z_critical * std_error\n",
    "    upper_bound = df_mean + z_critical * std_error\n",
    "    return lower_bound, upper_bound\n",
    "\n",
    "sample = np.array([6, 1, 2, 4, 6, 5, 5, 6, 3, 3, 6, 3, 4, 2, 2, 2, 4, 4, 3, 6])\n",
    "alpha = 0.05\n",
    "\n",
    "print(conf_ints(sample, alpha))\n"
   ]
  },
  {
   "cell_type": "markdown",
   "id": "d4917cd7",
   "metadata": {},
   "source": [
    "* Постройте 95%-доверительный интервал для среднего кубика, у которого вот такой результат\n",
    "\n",
    "    - [6, 1, 2, 4, 6, 5, 5, 6, 3, 3, 6, 3, 4, 2, 2, 2, 4, 4, 3, 6]\n",
    "    - честный ли он?"
   ]
  },
  {
   "cell_type": "markdown",
   "id": "fc78263e",
   "metadata": {},
   "source": [
    "### Задание № 4 Bootstrap"
   ]
  },
  {
   "cell_type": "markdown",
   "id": "114d7626",
   "metadata": {},
   "source": [
    "* Есть сервис по доставке еды, который заявляет, что среднее время их доставки составляет 20 минут\n",
    "\n",
    "* Мы подняли все наши заказы у данного сервиса"
   ]
  },
  {
   "cell_type": "code",
   "execution_count": 184,
   "id": "dac9e811",
   "metadata": {},
   "outputs": [],
   "source": [
    "sample = np.array(\n",
    "    [10, 13, 18, 8, 14, 15, 14, 15, 10, 14, 21, 20, 18, 13, 10, 13, 11, 10, 21, 16, 18, 21, 22, 20, 25, 14, 12, 14, 11, 16, 30, \\\n",
    "     29, 30, 31, 28, 28, 24, 48, 35, 50, 33, 18, 31, 22, 33, 27, 28, 44, 22, 23, 28, 23, 22, 30,27, 30, 30, 41, 26, 29, 35, 28, 27,\\\n",
    "     22, 25, 33, 28, 7, 19, 15, 20, 36, 22, 17, 17, 29, 14, 31, 11, 16, 24, 13, 15 ,21, 30, 26, 19, 21, 13, 16, 29, 37, 26, 15, 21,\\\n",
    "     24, 12, 27, 18, 32, 33, 47, 23, 33, 17, 19, 25, 15, 14, 20, 23, 13, 44, 33, 48, 34, 34, 28, 27, 21, 26, 44, 41\n",
    "     ]\n",
    ")"
   ]
  },
  {
   "cell_type": "markdown",
   "id": "99cf3e45",
   "metadata": {},
   "source": [
    "* Постройте 95% - доверительный интервал для среднего с помощью метода Bootstrap и проверьте, действительно ли заявленная цифра соответствует действительности"
   ]
  },
  {
   "cell_type": "code",
   "execution_count": 185,
   "id": "de42a1ad",
   "metadata": {},
   "outputs": [
    {
     "data": {
      "image/png": "[encoded data removed]",
      "text/plain": [
       "<Figure size 1000x600 with 1 Axes>"
      ]
     },
     "metadata": {},
     "output_type": "display_data"
    },
    {
     "name": "stdout",
     "output_type": "stream",
     "text": [
      "Доверительный интервал: \n",
      "Нижняя граница: 22.09\n",
      "Верхняя граница: 25.26\n",
      "\n",
      "\n",
      "None\n"
     ]
    }
   ],
   "source": [
    "def bootstrap_conf_ints(sample: list, alpha: float):\n",
    "    n_bootstrap=1000\n",
    "    pupupu=[]\n",
    "    for i in range(n_bootstrap):\n",
    "        sample1 = np.random.choice(sample, size=len(sample), replace=True)\n",
    "        pupupu.append(np.mean(sample1))\n",
    "\n",
    "    ci_lower = np.percentile(pupupu, 2.5)\n",
    "    ci_upper = np.percentile(pupupu, 97.5)\n",
    "\n",
    "\n",
    "    plt.figure(figsize=(10, 6))\n",
    "    plt.hist(pupupu, bins=30, edgecolor='black')\n",
    "    plt.axvline(ci_lower, color='red', linestyle='--', label='Нижняя граница')\n",
    "    plt.axvline(ci_upper, color='blue', linestyle='--', label='Верхняя граница')\n",
    "    plt.legend()\n",
    "    plt.show()\n",
    "\n",
    "    print(f\"Доверительный интервал: \\nНижняя граница: {ci_lower:.2f}\\nВерхняя граница: {ci_upper:.2f}\\n\\n\")\n",
    "\n",
    "print(bootstrap_conf_ints(sample, alpha))"
   ]
  },
  {
   "cell_type": "markdown",
   "id": "4caac3a4-46df-4247-a9ee-176d2c1eae15",
   "metadata": {},
   "source": [
    "### Задание № 5 "
   ]
  },
  {
   "cell_type": "markdown",
   "id": "32001569-4a33-40ee-8a2d-c8dd21d6b10b",
   "metadata": {},
   "source": [
    "Допустим, вы думаете, что $25\\%$ студентов вашего университета ни разу не пропустили ни одной лекции. В выборочном опросе из $75$ случайных студентов таких оказалось $15$ человек. Проверьте свою гипотезу на уровне значимости $\\alpha = 0.02$ против двусторонних альтернатив. В ответ запишите достигаемый уровень значимости с точностью до четвертого знака."
   ]
  },
  {
   "cell_type": "markdown",
   "id": "c0979e11-b8b7-4a1e-85f6-f154e28928d9",
   "metadata": {},
   "source": [
    "❓Каким критерием можно проверить эту гипотезу и почему?"
   ]
  },
  {
   "cell_type": "markdown",
   "id": "493187c8-28c8-4ab8-8249-09107189f09b",
   "metadata": {},
   "source": [
    "> ответ тут"
   ]
  },
  {
   "cell_type": "code",
   "execution_count": 186,
   "id": "7e3cd8f0-8533-410b-baa3-4137e6c7d36a",
   "metadata": {},
   "outputs": [
    {
     "name": "stdout",
     "output_type": "stream",
     "text": [
      "Z-статистика: -1.0000, p-value: 0.3173, se: 0.0500, alpha: 0.02\n",
      "\n",
      "На уровне значимости 0.02 не отвергаем нулевую гипотезу т.к. p-value > alpha\n",
      "(np.float64(-0.9999999999999998), np.float64(0.31731050786291415))\n"
     ]
    }
   ],
   "source": [
    "def proportion_test(p_hat, p_0, n, alpha):\n",
    "    se = np.sqrt(p_0 * (1 - p_0) / n)\n",
    "    z_stat = (p_hat - p_0) / se\n",
    "    p_value = 2 * (1 - st.norm.cdf(abs(z_stat)))\n",
    "    print(f\"Z-статистика: {z_stat:.4f}, p-value: {p_value:.4f}, se: {se:.4f}, alpha: {alpha}\\n\")\n",
    "    if p_value < alpha:\n",
    "        print(f\"На уровне значимости {alpha} отвергаем нулевую гипотезу т.к. p-value < alpha\")\n",
    "    else:\n",
    "        print(f\"На уровне значимости {alpha} не отвергаем нулевую гипотезу т.к. p-value > alpha\")\n",
    "    return z_stat, p_value\n",
    "\n",
    "print(proportion_test(0.2, 0.25, 75, 0.02))\n",
    "\n",
    "p_hat = 15\n",
    "p_0 = 0.25\n",
    "n = 75\n",
    "alpha = 0.02\n"
   ]
  },
  {
   "cell_type": "markdown",
   "id": "744c5662-d9f2-45d6-9a01-c1ef5986d89f",
   "metadata": {},
   "source": [
    "### Задание № 6"
   ]
  },
  {
   "cell_type": "markdown",
   "id": "8c048d05-689e-42e2-8c8c-fda6881f5630",
   "metadata": {},
   "source": [
    "Допустим мы предполагаем, что стандартное отклонение в стобалльном рейтинге студентов равно $15$. И решаем проверить это, оценив рейтинг знакомых. Получилась выборка объема $n = 20$, у\n",
    "которой выборочное стандартное отклонение равно $14$.  \n",
    "Уровень значимости возьмём $\\alpha = 0.1$, а альтернативы рассмотрим двусторонние. Используй для этого соответствующий критерий из `scipy`. "
   ]
  },
  {
   "cell_type": "code",
   "execution_count": 187,
   "id": "7b8dea82-f6ca-47ee-a619-9328c3e4ce70",
   "metadata": {},
   "outputs": [
    {
     "name": "stdout",
     "output_type": "stream",
     "text": [
      "дисперсия: 0.0526\n",
      "На уровне значимости 0.1 отвергаем нулевую гипотезу т.к. p-value < alpha\n",
      "chi_sq_stat: 0.0044, chi_sq_stat_lower: -30.1391, chi_sq_stat_upper: 30.1480, p_value: 0.0000\n"
     ]
    }
   ],
   "source": [
    "s = 14\n",
    "sigma0 = 15\n",
    "n = 20\n",
    "alpha = 0.1\n",
    "\n",
    "\n",
    "#найдем дисперсию\n",
    "s_2 = (s - sigma0)**2 / (n - 1)\n",
    "print(f\"дисперсия: {s_2:.4f}\")\n",
    "# Рассчитываем хи-квадрат статистику\n",
    "chi_sq_stat = (n - 1) * s_2 / sigma0**2\n",
    "\n",
    "chi_sq_stat_lower = chi_sq_stat - st.chi2.ppf(1 - alpha / 2, n - 1)\n",
    "chi_sq_stat_upper = chi_sq_stat + st.chi2.ppf(1 - alpha / 2, n - 1)\n",
    "\n",
    "# Вычисляем p-value для двустороннего теста\n",
    "p_value = st.chi2(df=n-1).sf(chi_sq_stat) * 2\n",
    "if p_value > 1:\n",
    "    p_value = 2 - p_value\n",
    "\n",
    "if p_value < alpha:\n",
    "    print(f\"На уровне значимости {alpha} отвергаем нулевую гипотезу т.к. p-value < alpha\")\n",
    "else:\n",
    "    print(f\"На уровне значимости {alpha} не отвергаем нулевую гипотезу т.к. p-value > alpha\")\n",
    "\n",
    "print(f\"chi_sq_stat: {chi_sq_stat:.4f}, chi_sq_stat_lower: {chi_sq_stat_lower:.4f}, chi_sq_stat_upper: {chi_sq_stat_upper:.4f}, p_value: {p_value:.4f}\")\n"
   ]
  },
  {
   "cell_type": "code",
   "execution_count": 188,
   "id": "9c031f67",
   "metadata": {},
   "outputs": [
    {
     "name": "stdout",
     "output_type": "stream",
     "text": [
      "χ²-статистика = 16.551\n",
      "p-value = 0.7595\n",
      "При уровне значимости 0.1 НЕ ОТВЕРГАЕМ нулевую гипотезу\n",
      "Доверительный интервал: \n",
      "Нижняя граница: -30.1391\n",
      "Верхняя граница: 30.1480\n"
     ]
    }
   ],
   "source": [
    "from scipy import stats\n",
    "\n",
    "# Исходные данные\n",
    "sigma0 = 15\n",
    "s = 14\n",
    "n = 20\n",
    "alpha = 0.1\n",
    "\n",
    "# Рассчитываем хи-квадрат статистику\n",
    "chi2_stat = (n - 1) * s**2 / sigma0**2\n",
    "\n",
    "# Вычисляем p-value для двустороннего теста\n",
    "p_value = 2 * min(stats.chi2(df=n-1).cdf(chi2_stat),\n",
    "                 1 - stats.chi2(df=n-1).cdf(chi2_stat))\n",
    "\n",
    "# Альтернативный способ вычисления p-value\n",
    "p_value = stats.chi2(df=n-1).sf(chi2_stat) * 2\n",
    "if p_value > 1:\n",
    "    p_value = 2 - p_value\n",
    "\n",
    "print(f\"χ²-статистика = {chi2_stat:.3f}\")\n",
    "print(f\"p-value = {p_value:.4f}\")\n",
    "\n",
    "# Принимаем решение\n",
    "if p_value < alpha:\n",
    "    print(f\"При уровне значимости {alpha} ОТВЕРГАЕМ нулевую гипотезу\")\n",
    "else:\n",
    "    print(f\"При уровне значимости {alpha} НЕ ОТВЕРГАЕМ нулевую гипотезу\")\n",
    "\n",
    "print(f\"Доверительный интервал: \\nНижняя граница: {chi_sq_stat_lower:.4f}\\nВерхняя граница: {chi_sq_stat_upper:.4f}\")"
   ]
  },
  {
   "cell_type": "markdown",
   "id": "60382d8b-b11a-4342-a533-344dee53955a",
   "metadata": {},
   "source": [
    "### Задание № 7"
   ]
  },
  {
   "cell_type": "markdown",
   "id": "41c8efc4-c407-464f-a061-35faeb10887a",
   "metadata": {},
   "source": [
    "Пусть для выборки объема $n = 25$ вычислено среднее  $\\bar{x} = 130$. Из предыдущих исследований известно стандартное отклонение $\\sigma = 12$. Постройте $98\\%$ доверительный интервал для среднего значения."
   ]
  },
  {
   "cell_type": "code",
   "execution_count": 9,
   "id": "cb56c8ba-603f-4084-b051-d66b0828335e",
   "metadata": {},
   "outputs": [
    {
     "data": {
      "text/plain": [
       "(np.float64(124.41676510230198), np.float64(135.58323489769802))"
      ]
     },
     "execution_count": 9,
     "metadata": {},
     "output_type": "execute_result"
    }
   ],
   "source": [
    "n = 25\n",
    "mean_x = 130\n",
    "s = 12\n",
    "alpha = 0.98\n",
    "# Рассчитываем доверительный интервал\n",
    "st.norm.interval(loc = mean_x, scale = s/ np.sqrt(n), confidence=0.98)"
   ]
  },
  {
   "cell_type": "markdown",
   "id": "26a7ec2a-e1f4-40ba-8002-16066717d435",
   "metadata": {},
   "source": [
    "### Задание № 8\n",
    "\n",
    "Реализуй класс, позволяющий проводить проверку гипотезу о средних для двух выборок. \n",
    "1. В конструктор класса передаются две выборки\n",
    "2. В методе `compute_stat` вычисляется `t` или `z` статистика (соответственно, дисперсия либо вычисляется, либо передается как параметр)\n",
    "3. В методе `test` проводится тестирование, метод возвращает значение статистики, p_value и результат проверки\n",
    "4. Выбирается альтернатива: двухсторонняя, правая или левая\n",
    "5. Уровень значимости по умолчанию равен $0.05$ (может быть переназначен пользователем)\n",
    "6. Добавь метод, позволяющий вычислять доверительные интервалы для средних для обеих выборок"
   ]
  },
  {
   "cell_type": "code",
   "execution_count": 190,
   "id": "20c3d898-8e9d-4690-af48-624f769e12bf",
   "metadata": {},
   "outputs": [
    {
     "ename": "SyntaxError",
     "evalue": "invalid syntax (1451491073.py, line 7)",
     "output_type": "error",
     "traceback": [
      "  \u001b[36mCell\u001b[39m\u001b[36m \u001b[39m\u001b[32mIn[190]\u001b[39m\u001b[32m, line 7\u001b[39m\n\u001b[31m    \u001b[39m\u001b[31mdef compute_stat(self, ...):\u001b[39m\n                           ^\n\u001b[31mSyntaxError\u001b[39m\u001b[31m:\u001b[39m invalid syntax\n"
     ]
    }
   ],
   "source": [
    "class StatTester():\n",
    "    def __init__(self, sample1, sample2):\n",
    "        self.sample1 = sample1\n",
    "        self.sample2 = sample2\n",
    "        # код\n",
    "\n",
    "    def compute_stat(self, ...):\n",
    "        # код\n",
    "\n",
    "    def test(self, ...):\n",
    "        # код\n",
    "        return\n",
    "\n",
    "    def compute_conf_ints(self, ...):\n",
    "        # код\n"
   ]
  },
  {
   "cell_type": "markdown",
   "id": "44a91674-8a96-4108-b246-5d1f14e9e07e",
   "metadata": {},
   "source": [
    "<img src=\"https://icons.iconarchive.com/icons/icons8/windows-8/256/Programming-Github-icon.png\" width=32 /> Сохрани файл для __github__. \n",
    "\n",
    "1. Перейди в командной строке в папку, в которой расположен этот нотбук. \n",
    "2. Выполни команду `git add .`\n",
    "3. Выполни команду `git commit -m \"hypothesis tasks completed\"`\n",
    "4. Выполни команду `git push`"
   ]
  }
 ],
 "metadata": {
  "kernelspec": {
   "display_name": "base",
   "language": "python",
   "name": "python3"
  },
  "language_info": {
   "codemirror_mode": {
    "name": "ipython",
    "version": 3
   },
   "file_extension": ".py",
   "mimetype": "text/x-python",
   "name": "python",
   "nbconvert_exporter": "python",
   "pygments_lexer": "ipython3",
   "version": "3.12.9"
  }
 },
 "nbformat": 4,
 "nbformat_minor": 5
}
